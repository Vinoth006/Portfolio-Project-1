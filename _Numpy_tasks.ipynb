{
  "cells": [
    {
      "cell_type": "markdown",
      "metadata": {
        "id": "view-in-github",
        "colab_type": "text"
      },
      "source": [
        "<a href=\"https://colab.research.google.com/github/Vinoth006/Portfolio-Project-1/blob/Vinoth006-patch-1-Guvi/_Numpy_tasks.ipynb\" target=\"_parent\"><img src=\"https://colab.research.google.com/assets/colab-badge.svg\" alt=\"Open In Colab\"/></a>"
      ]
    },
    {
      "cell_type": "markdown",
      "metadata": {
        "id": "79_4q8hbmvxF"
      },
      "source": [
        "# Numpy\n",
        "\n"
      ]
    },
    {
      "cell_type": "markdown",
      "metadata": {
        "id": "ourHe9nBmvxI"
      },
      "source": [
        "#### 1. Import the numpy package under the name `np` (★☆☆) \n",
        "(**hint**: import … as …)"
      ]
    },
    {
      "cell_type": "code",
      "execution_count": null,
      "metadata": {
        "collapsed": true,
        "id": "S3COHleymvxJ"
      },
      "outputs": [],
      "source": [
        "import numpy as np"
      ]
    },
    {
      "cell_type": "markdown",
      "metadata": {
        "id": "x7tsCb0BmvxK"
      },
      "source": [
        "#### 2. Print the numpy version and the configuration (★☆☆) \n",
        "(**hint**: np.\\_\\_version\\_\\_, np.show\\_config)"
      ]
    },
    {
      "cell_type": "code",
      "execution_count": null,
      "metadata": {
        "id": "NCoG5wvnmvxK",
        "outputId": "5a1d4c48-a95b-429d-f4c6-f367e0ec1fd2",
        "colab": {
          "base_uri": "https://localhost:8080/"
        }
      },
      "outputs": [
        {
          "output_type": "execute_result",
          "data": {
            "text/plain": [
              "(<module 'numpy._version' from '/usr/local/lib/python3.7/dist-packages/numpy/_version.py'>,\n",
              " <function numpy.__config__.show>)"
            ]
          },
          "metadata": {},
          "execution_count": 24
        }
      ],
      "source": [
        "(np._version,np.show_config)"
      ]
    },
    {
      "cell_type": "markdown",
      "metadata": {
        "id": "kWYp7CIsmvxK"
      },
      "source": [
        "#### 3. Create a null vector of size 10 (★☆☆) \n",
        "(**hint**: np.zeros)"
      ]
    },
    {
      "cell_type": "code",
      "execution_count": null,
      "metadata": {
        "id": "5XbaDvtRmvxL",
        "outputId": "dc4c4029-dea2-429a-9be1-904988dadea6",
        "colab": {
          "base_uri": "https://localhost:8080/"
        }
      },
      "outputs": [
        {
          "output_type": "execute_result",
          "data": {
            "text/plain": [
              "array([0., 0., 0., 0., 0., 0., 0., 0., 0., 0.])"
            ]
          },
          "metadata": {},
          "execution_count": 25
        }
      ],
      "source": [
        "np.zeros(10)"
      ]
    },
    {
      "cell_type": "markdown",
      "metadata": {
        "id": "KLYNZThbmvxL"
      },
      "source": [
        "#### 4.  How to find the memory size of any array (★☆☆) \n",
        "(**hint**: size, itemsize)"
      ]
    },
    {
      "cell_type": "code",
      "execution_count": null,
      "metadata": {
        "id": "nVemZvcEmvxM",
        "colab": {
          "base_uri": "https://localhost:8080/"
        },
        "outputId": "62171870-1d1a-48a6-c820-d396afc5acdb"
      },
      "outputs": [
        {
          "output_type": "stream",
          "name": "stdout",
          "text": [
            "10\n",
            "8\n",
            "Memory size of array is 80\n"
          ]
        }
      ],
      "source": [
        "x = np.zeros(10)\n",
        "print(x.size)\n",
        "print(x.itemsize)\n",
        "print(f\"Memory size of array is {x.size*x.itemsize}\")"
      ]
    },
    {
      "cell_type": "markdown",
      "metadata": {
        "id": "eXEqeLtmmvxM"
      },
      "source": [
        "#### 5.  How to get the documentation of the numpy add function from the command line? (★☆☆) \n",
        "(**hint**: np.info)"
      ]
    },
    {
      "cell_type": "code",
      "execution_count": null,
      "metadata": {
        "collapsed": true,
        "id": "fwlNY3DZmvxM",
        "colab": {
          "base_uri": "https://localhost:8080/"
        },
        "outputId": "74bf5021-f196-4fe2-d7be-5f5c4e4e7208"
      },
      "outputs": [
        {
          "output_type": "stream",
          "name": "stdout",
          "text": [
            "add(x1, x2, /, out=None, *, where=True, casting='same_kind', order='K', dtype=None, subok=True[, signature, extobj])\n",
            "\n",
            "Add arguments element-wise.\n",
            "\n",
            "Parameters\n",
            "----------\n",
            "x1, x2 : array_like\n",
            "    The arrays to be added.\n",
            "    If ``x1.shape != x2.shape``, they must be broadcastable to a common\n",
            "    shape (which becomes the shape of the output).\n",
            "out : ndarray, None, or tuple of ndarray and None, optional\n",
            "    A location into which the result is stored. If provided, it must have\n",
            "    a shape that the inputs broadcast to. If not provided or None,\n",
            "    a freshly-allocated array is returned. A tuple (possible only as a\n",
            "    keyword argument) must have length equal to the number of outputs.\n",
            "where : array_like, optional\n",
            "    This condition is broadcast over the input. At locations where the\n",
            "    condition is True, the `out` array will be set to the ufunc result.\n",
            "    Elsewhere, the `out` array will retain its original value.\n",
            "    Note that if an uninitialized `out` array is created via the default\n",
            "    ``out=None``, locations within it where the condition is False will\n",
            "    remain uninitialized.\n",
            "**kwargs\n",
            "    For other keyword-only arguments, see the\n",
            "    :ref:`ufunc docs <ufuncs.kwargs>`.\n",
            "\n",
            "Returns\n",
            "-------\n",
            "add : ndarray or scalar\n",
            "    The sum of `x1` and `x2`, element-wise.\n",
            "    This is a scalar if both `x1` and `x2` are scalars.\n",
            "\n",
            "Notes\n",
            "-----\n",
            "Equivalent to `x1` + `x2` in terms of array broadcasting.\n",
            "\n",
            "Examples\n",
            "--------\n",
            ">>> np.add(1.0, 4.0)\n",
            "5.0\n",
            ">>> x1 = np.arange(9.0).reshape((3, 3))\n",
            ">>> x2 = np.arange(3.0)\n",
            ">>> np.add(x1, x2)\n",
            "array([[  0.,   2.,   4.],\n",
            "       [  3.,   5.,   7.],\n",
            "       [  6.,   8.,  10.]])\n",
            "\n",
            "The ``+`` operator can be used as a shorthand for ``np.add`` on ndarrays.\n",
            "\n",
            ">>> x1 = np.arange(9.0).reshape((3, 3))\n",
            ">>> x2 = np.arange(3.0)\n",
            ">>> x1 + x2\n",
            "array([[ 0.,  2.,  4.],\n",
            "       [ 3.,  5.,  7.],\n",
            "       [ 6.,  8., 10.]])\n"
          ]
        }
      ],
      "source": [
        "np.info(np.add)"
      ]
    },
    {
      "cell_type": "markdown",
      "metadata": {
        "id": "W6UmQjllmvxN"
      },
      "source": [
        "#### 6.  Create a null vector of size 10 but the fifth value which is 1 (★☆☆) \n",
        "(**hint**: array\\[4\\])"
      ]
    },
    {
      "cell_type": "code",
      "execution_count": null,
      "metadata": {
        "id": "XaMpYPlmmvxN",
        "colab": {
          "base_uri": "https://localhost:8080/"
        },
        "outputId": "4029f344-66ea-4d3a-d8b9-d8525b9d0562"
      },
      "outputs": [
        {
          "output_type": "stream",
          "name": "stdout",
          "text": [
            "[0. 0. 0. 0. 1. 0. 0. 0. 0. 0.]\n"
          ]
        }
      ],
      "source": [
        "x= np.zeros(10)\n",
        "x[4]=1\n",
        "print(x)"
      ]
    },
    {
      "cell_type": "markdown",
      "metadata": {
        "id": "JdGeAHK4mvxN"
      },
      "source": [
        "#### 7.  Create a vector with values ranging from 10 to 49 (★☆☆) \n",
        "(**hint**: np.arange)"
      ]
    },
    {
      "cell_type": "code",
      "execution_count": null,
      "metadata": {
        "id": "5y1mpLICmvxN",
        "colab": {
          "base_uri": "https://localhost:8080/"
        },
        "outputId": "86aac3b1-83fb-4278-dfac-dafc8770965d"
      },
      "outputs": [
        {
          "output_type": "execute_result",
          "data": {
            "text/plain": [
              "array([10, 11, 12, 13, 14, 15, 16, 17, 18, 19, 20, 21, 22, 23, 24, 25, 26,\n",
              "       27, 28, 29, 30, 31, 32, 33, 34, 35, 36, 37, 38, 39, 40, 41, 42, 43,\n",
              "       44, 45, 46, 47, 48, 49])"
            ]
          },
          "metadata": {},
          "execution_count": 29
        }
      ],
      "source": [
        "np.arange(10,50)"
      ]
    },
    {
      "cell_type": "markdown",
      "metadata": {
        "id": "0SDR7EUVmvxO"
      },
      "source": [
        "#### 8.  Reverse a vector (first element becomes last) (★☆☆) \n",
        "(**hint**: array\\[::-1\\])"
      ]
    },
    {
      "cell_type": "code",
      "execution_count": null,
      "metadata": {
        "id": "ZWdOoZa7mvxO",
        "colab": {
          "base_uri": "https://localhost:8080/"
        },
        "outputId": "93980590-6945-4055-f21a-421ee6355f76"
      },
      "outputs": [
        {
          "output_type": "execute_result",
          "data": {
            "text/plain": [
              "array([49, 48, 47, 46, 45, 44, 43, 42, 41, 40, 39, 38, 37, 36, 35, 34, 33,\n",
              "       32, 31, 30, 29, 28, 27, 26, 25, 24, 23, 22, 21, 20, 19, 18, 17, 16,\n",
              "       15, 14, 13, 12, 11, 10])"
            ]
          },
          "metadata": {},
          "execution_count": 30
        }
      ],
      "source": [
        "n = np.arange(10,50)\n",
        "n[::-1]"
      ]
    },
    {
      "cell_type": "markdown",
      "metadata": {
        "id": "tG9_80YumvxO"
      },
      "source": [
        "#### 9.  Create a 3x3 matrix with values ranging from 0 to 8 (★☆☆) \n",
        "(**hint**: reshape)"
      ]
    },
    {
      "cell_type": "code",
      "execution_count": null,
      "metadata": {
        "id": "-Xj_xw1jmvxO",
        "colab": {
          "base_uri": "https://localhost:8080/"
        },
        "outputId": "40793a85-900e-4de4-b735-8f0897a2d589"
      },
      "outputs": [
        {
          "output_type": "execute_result",
          "data": {
            "text/plain": [
              "array([[0, 1, 2],\n",
              "       [3, 4, 5],\n",
              "       [6, 7, 8]])"
            ]
          },
          "metadata": {},
          "execution_count": 31
        }
      ],
      "source": [
        "m = np.arange(0,9).reshape(3,3)\n",
        "m"
      ]
    },
    {
      "cell_type": "markdown",
      "metadata": {
        "id": "DCZFqHtxmvxO"
      },
      "source": [
        "#### 10. Find indices of non-zero elements from \\[1,2,0,0,4,0\\] (★☆☆) \n",
        "(**hint**: np.nonzero)"
      ]
    },
    {
      "cell_type": "code",
      "execution_count": null,
      "metadata": {
        "id": "gJ-HYzHAmvxP",
        "colab": {
          "base_uri": "https://localhost:8080/"
        },
        "outputId": "a440603f-bdf9-4f28-8369-a07cdc40a94c"
      },
      "outputs": [
        {
          "output_type": "execute_result",
          "data": {
            "text/plain": [
              "(array([0, 1, 4]),)"
            ]
          },
          "metadata": {},
          "execution_count": 32
        }
      ],
      "source": [
        "l = [1,2,0,0,4,0]\n",
        "np.nonzero(l)"
      ]
    },
    {
      "cell_type": "markdown",
      "metadata": {
        "id": "4Kn_EZxgmvxP"
      },
      "source": [
        "#### 11. Create a 3x3 identity matrix (★☆☆) \n",
        "(**hint**: np.eye)"
      ]
    },
    {
      "cell_type": "code",
      "execution_count": null,
      "metadata": {
        "id": "qW6tJPZomvxP",
        "colab": {
          "base_uri": "https://localhost:8080/"
        },
        "outputId": "997a37c0-6a64-4589-d80c-8d345e51173f"
      },
      "outputs": [
        {
          "output_type": "execute_result",
          "data": {
            "text/plain": [
              "array([[1., 0., 0.],\n",
              "       [0., 1., 0.],\n",
              "       [0., 0., 1.]])"
            ]
          },
          "metadata": {},
          "execution_count": 33
        }
      ],
      "source": [
        "np.eye(3,3)"
      ]
    },
    {
      "cell_type": "markdown",
      "metadata": {
        "id": "hLn7pvQamvxP"
      },
      "source": [
        "#### 12. Create a 3x3x3 array with random values (★☆☆) \n",
        "(**hint**: np.random.random)"
      ]
    },
    {
      "cell_type": "code",
      "execution_count": null,
      "metadata": {
        "collapsed": true,
        "id": "zXMQG7UTmvxP",
        "colab": {
          "base_uri": "https://localhost:8080/"
        },
        "outputId": "c9b281c4-3ef2-4555-a1b9-e944dbd1f526"
      },
      "outputs": [
        {
          "output_type": "execute_result",
          "data": {
            "text/plain": [
              "array([[[0.25688369, 0.51965533, 0.83824275],\n",
              "        [0.88433515, 0.73962228, 0.25708326],\n",
              "        [0.18874741, 0.40789652, 0.25616672]],\n",
              "\n",
              "       [[0.35004713, 0.32143824, 0.60346966],\n",
              "        [0.22139264, 0.42768459, 0.8366942 ],\n",
              "        [0.27836952, 0.42374978, 0.45391229]],\n",
              "\n",
              "       [[0.85218977, 0.8049261 , 0.77904217],\n",
              "        [0.79094287, 0.57809966, 0.05146993],\n",
              "        [0.56753605, 0.2116457 , 0.27759896]]])"
            ]
          },
          "metadata": {},
          "execution_count": 34
        }
      ],
      "source": [
        "from numpy import random\n",
        "n = np.random.rand(3,3,3)\n",
        "n"
      ]
    },
    {
      "cell_type": "markdown",
      "metadata": {
        "id": "9l6rvWJtmvxP"
      },
      "source": [
        "#### 13. Create a 10x10 array with random values and find the minimum and maximum values (★☆☆) \n",
        "(**hint**: min, max)"
      ]
    },
    {
      "cell_type": "code",
      "execution_count": null,
      "metadata": {
        "id": "fp_6tTw5mvxP",
        "colab": {
          "base_uri": "https://localhost:8080/"
        },
        "outputId": "8fc53e16-0e16-4a00-80c1-ede24ca608da"
      },
      "outputs": [
        {
          "output_type": "stream",
          "name": "stdout",
          "text": [
            "Minimum no : 0.006073812205913631\n",
            "Maximum no : 0.9957837978807473\n"
          ]
        }
      ],
      "source": [
        "k = np.random.rand(10,10)\n",
        "print(f\"Minimum no : {k.min()}\")\n",
        "print(f\"Maximum no : {k.max()}\")"
      ]
    },
    {
      "cell_type": "markdown",
      "metadata": {
        "id": "84ubbbOMmvxP"
      },
      "source": [
        "#### 14. Create a random vector of size 30 and find the mean value (★☆☆) \n",
        "(**hint**: mean)"
      ]
    },
    {
      "cell_type": "code",
      "execution_count": null,
      "metadata": {
        "id": "EoaUKpJemvxP",
        "colab": {
          "base_uri": "https://localhost:8080/"
        },
        "outputId": "c2223fa9-eceb-45c7-ceb9-0ac80b8b713b"
      },
      "outputs": [
        {
          "output_type": "execute_result",
          "data": {
            "text/plain": [
              "14.5"
            ]
          },
          "metadata": {},
          "execution_count": 36
        }
      ],
      "source": [
        "e = np.arange(30)\n",
        "e.mean()"
      ]
    },
    {
      "cell_type": "markdown",
      "metadata": {
        "id": "tDYJYJ0emvxQ"
      },
      "source": [
        "#### 15. Create a 2d array with 1 on the border and 0 inside (★☆☆) \n",
        "(**hint**: array\\[1:-1, 1:-1\\])"
      ]
    },
    {
      "cell_type": "code",
      "execution_count": null,
      "metadata": {
        "id": "VFV9K-LbmvxQ",
        "colab": {
          "base_uri": "https://localhost:8080/"
        },
        "outputId": "9aa77f97-d528-484b-cabe-c12203240ca8"
      },
      "outputs": [
        {
          "output_type": "stream",
          "name": "stdout",
          "text": [
            "[[1. 1. 1. 1. 1.]\n",
            " [1. 0. 0. 0. 1.]\n",
            " [1. 0. 0. 0. 1.]\n",
            " [1. 0. 0. 0. 1.]\n",
            " [1. 1. 1. 1. 1.]]\n"
          ]
        }
      ],
      "source": [
        "n = np.ones((5,5))\n",
        "n[1:-1,1:-1] = 0\n",
        "print(n)"
      ]
    },
    {
      "cell_type": "markdown",
      "metadata": {
        "id": "GnM1CSVzmvxQ"
      },
      "source": [
        "#### 16. How to add a border (filled with 0's) around an existing array? (★☆☆) \n",
        "(**hint**: np.pad)"
      ]
    },
    {
      "cell_type": "code",
      "execution_count": null,
      "metadata": {
        "id": "cEIbLF71mvxQ",
        "colab": {
          "base_uri": "https://localhost:8080/"
        },
        "outputId": "2f76026b-1db0-4a67-984e-adb71ab9bd0a"
      },
      "outputs": [
        {
          "output_type": "execute_result",
          "data": {
            "text/plain": [
              "array([[0., 0., 0., 0., 0.],\n",
              "       [0., 1., 1., 1., 0.],\n",
              "       [0., 1., 1., 1., 0.],\n",
              "       [0., 1., 1., 1., 0.],\n",
              "       [0., 0., 0., 0., 0.]])"
            ]
          },
          "metadata": {},
          "execution_count": 38
        }
      ],
      "source": [
        "x = np.ones((3,3))\n",
        "x = np.pad(x,pad_width=1,mode='constant',constant_values=0)\n",
        "x"
      ]
    },
    {
      "cell_type": "markdown",
      "metadata": {
        "id": "tFrDBmo2mvxQ"
      },
      "source": [
        "#### 17. What is the result of the following expression? (★☆☆) \n",
        "(**hint**: NaN = not a number, inf = infinity)"
      ]
    },
    {
      "cell_type": "markdown",
      "metadata": {
        "id": "jyrbd1pDmvxQ"
      },
      "source": [
        "```python\n",
        "0 * np.nan\n",
        "np.nan == np.nan\n",
        "np.inf > np.nan\n",
        "np.nan - np.nan\n",
        "0.3 == 3 * 0.1\n",
        "```"
      ]
    },
    {
      "cell_type": "code",
      "execution_count": null,
      "metadata": {
        "id": "sf_gRCVlmvxQ",
        "colab": {
          "base_uri": "https://localhost:8080/"
        },
        "outputId": "ba4cac8a-21e8-4f95-dd64-7366ce1b685f"
      },
      "outputs": [
        {
          "output_type": "execute_result",
          "data": {
            "text/plain": [
              "False"
            ]
          },
          "metadata": {},
          "execution_count": 39
        }
      ],
      "source": [
        "0 * np.nan\n",
        "np.nan == np.nan\n",
        "np.inf > np.nan\n",
        "np.nan - np.nan\n",
        "0.3 == 3 * 0.1"
      ]
    },
    {
      "cell_type": "markdown",
      "metadata": {
        "id": "JPztxMaImvxQ"
      },
      "source": [
        "#### 18. Create a 5x5 matrix with values 1,2,3,4 just below the diagonal (★☆☆) \n",
        "(**hint**: np.diag)"
      ]
    },
    {
      "cell_type": "code",
      "execution_count": null,
      "metadata": {
        "id": "qXXqvOsmmvxR",
        "colab": {
          "base_uri": "https://localhost:8080/"
        },
        "outputId": "4d7b32f8-0571-40be-8f52-8a1bda094da5"
      },
      "outputs": [
        {
          "output_type": "execute_result",
          "data": {
            "text/plain": [
              "array([[1, 0, 0, 0, 0],\n",
              "       [0, 2, 0, 0, 0],\n",
              "       [0, 0, 3, 0, 0],\n",
              "       [0, 0, 0, 4, 0],\n",
              "       [0, 0, 0, 0, 4]])"
            ]
          },
          "metadata": {},
          "execution_count": 40
        }
      ],
      "source": [
        "v=np.diag([1,2,3,4,4])\n",
        "v"
      ]
    },
    {
      "cell_type": "markdown",
      "metadata": {
        "id": "wUVcODc_mvxR"
      },
      "source": [
        "#### 19. Create a 8x8 matrix and fill it with a checkerboard pattern (★☆☆) \n",
        "(**hint**: array\\[::2\\])"
      ]
    },
    {
      "cell_type": "code",
      "execution_count": null,
      "metadata": {
        "id": "Uq7wHiUOmvxR",
        "colab": {
          "base_uri": "https://localhost:8080/"
        },
        "outputId": "08429012-af66-40ee-c2c2-0f8379491444"
      },
      "outputs": [
        {
          "output_type": "stream",
          "name": "stdout",
          "text": [
            "[[0 1 0 1 0 1 0 1]\n",
            " [1 0 1 0 1 0 1 0]\n",
            " [0 1 0 1 0 1 0 1]\n",
            " [1 0 1 0 1 0 1 0]\n",
            " [0 1 0 1 0 1 0 1]\n",
            " [1 0 1 0 1 0 1 0]\n",
            " [0 1 0 1 0 1 0 1]\n",
            " [1 0 1 0 1 0 1 0]]\n"
          ]
        }
      ],
      "source": [
        "h=np.ones((3,3))\n",
        "h = np.zeros((8,8),dtype=int)\n",
        "h[1::2,::2] = 1\n",
        "h[::2,1::2]=1\n",
        "print(h)"
      ]
    },
    {
      "cell_type": "markdown",
      "metadata": {
        "id": "dBIG89OkmvxR"
      },
      "source": [
        "#### 20. Consider a (6,7,8) shape array, what is the index (x,y,z) of the 100th element? \n",
        "(**hint**: np.unravel_index)"
      ]
    },
    {
      "cell_type": "code",
      "execution_count": null,
      "metadata": {
        "id": "zZwe_GIxmvxR"
      },
      "outputs": [],
      "source": [
        ""
      ]
    },
    {
      "cell_type": "markdown",
      "metadata": {
        "id": "fu2Da1EMmvxR"
      },
      "source": [
        "#### 21. Create a checkerboard 8x8 matrix using the tile function (★☆☆) \n",
        "(**hint**: np.tile)"
      ]
    },
    {
      "cell_type": "code",
      "execution_count": null,
      "metadata": {
        "id": "j1zqN61VmvxR",
        "colab": {
          "base_uri": "https://localhost:8080/"
        },
        "outputId": "6f3137f1-1d16-4de4-e67f-f234a409cfba"
      },
      "outputs": [
        {
          "output_type": "execute_result",
          "data": {
            "text/plain": [
              "array([[1, 0, 1, 0, 1, 0, 1, 0, 1, 0, 1, 0, 1, 0, 1, 0],\n",
              "       [1, 0, 1, 0, 1, 0, 1, 0, 1, 0, 1, 0, 1, 0, 1, 0],\n",
              "       [1, 0, 1, 0, 1, 0, 1, 0, 1, 0, 1, 0, 1, 0, 1, 0],\n",
              "       [1, 0, 1, 0, 1, 0, 1, 0, 1, 0, 1, 0, 1, 0, 1, 0],\n",
              "       [1, 0, 1, 0, 1, 0, 1, 0, 1, 0, 1, 0, 1, 0, 1, 0],\n",
              "       [1, 0, 1, 0, 1, 0, 1, 0, 1, 0, 1, 0, 1, 0, 1, 0],\n",
              "       [1, 0, 1, 0, 1, 0, 1, 0, 1, 0, 1, 0, 1, 0, 1, 0],\n",
              "       [1, 0, 1, 0, 1, 0, 1, 0, 1, 0, 1, 0, 1, 0, 1, 0]])"
            ]
          },
          "metadata": {},
          "execution_count": 42
        }
      ],
      "source": [
        "x = [1,0]\n",
        "m =np.tile(x,(8,8))\n",
        "m"
      ]
    },
    {
      "cell_type": "markdown",
      "metadata": {
        "id": "o0NiRAUimvxR"
      },
      "source": [
        "#### 22. Normalize a 5x5 random matrix (★☆☆) \n",
        "(**hint**: (x - min) / (max - min))"
      ]
    },
    {
      "cell_type": "code",
      "execution_count": null,
      "metadata": {
        "id": "-ggWCTzymvxR",
        "colab": {
          "base_uri": "https://localhost:8080/"
        },
        "outputId": "cdadcbec-3869-4d3b-d4fc-3cb43c795987"
      },
      "outputs": [
        {
          "output_type": "execute_result",
          "data": {
            "text/plain": [
              "array([[0.81183622, 0.4852598 , 0.59302769, 0.26138617, 0.17664261],\n",
              "       [0.87242594, 0.17557012, 0.06477843, 0.5125396 , 0.53067562],\n",
              "       [0.92104459, 0.31328445, 0.48968491, 0.82796012, 0.78593744],\n",
              "       [1.        , 0.01611864, 0.30719166, 0.30554956, 0.46847478],\n",
              "       [0.96580962, 0.44340638, 0.1206746 , 0.        , 0.79127635]])"
            ]
          },
          "metadata": {},
          "execution_count": 43
        }
      ],
      "source": [
        "x=np.random.rand(5,5)\n",
        "xmax,xmin = x.max(),x.min()\n",
        "x= (x-xmin)/(xmax-xmin)\n",
        "x"
      ]
    },
    {
      "cell_type": "markdown",
      "metadata": {
        "id": "Q31wEIf2mvxR"
      },
      "source": [
        "#### 23. Create a custom dtype that describes a color as four unsigned bytes (RGBA) (★☆☆) \n",
        "(**hint**: np.dtype)"
      ]
    },
    {
      "cell_type": "code",
      "execution_count": null,
      "metadata": {
        "collapsed": true,
        "id": "ol11E4lZmvxS",
        "colab": {
          "base_uri": "https://localhost:8080/"
        },
        "outputId": "6b865bb9-4b30-47f0-925c-b9b8cc208dd5"
      },
      "outputs": [
        {
          "output_type": "stream",
          "name": "stderr",
          "text": [
            "/usr/local/lib/python3.7/dist-packages/ipykernel_launcher.py:4: FutureWarning: Passing (type, 1) or '1type' as a synonym of type is deprecated; in a future version of numpy, it will be understood as (type, (1,)) / '(1,)type'.\n",
            "  after removing the cwd from sys.path.\n"
          ]
        }
      ],
      "source": [
        "color = np.dtype([(\"r\", np.ubyte, 1),\n",
        "                  (\"g\", np.ubyte, 1),\n",
        "                  (\"b\", np.ubyte, 1),\n",
        "                  (\"a\", np.ubyte, 1)])"
      ]
    },
    {
      "cell_type": "markdown",
      "metadata": {
        "id": "5sxuct68mvxS"
      },
      "source": [
        "#### 24. Multiply a 5x3 matrix by a 3x2 matrix (real matrix product) (★☆☆) \n",
        "(**hint**: np.dot | @)"
      ]
    },
    {
      "cell_type": "code",
      "execution_count": null,
      "metadata": {
        "id": "OscMNd8mmvxS",
        "colab": {
          "base_uri": "https://localhost:8080/"
        },
        "outputId": "089b493d-56a8-4772-90bd-e34d2f8d5b8b"
      },
      "outputs": [
        {
          "output_type": "execute_result",
          "data": {
            "text/plain": [
              "array([[6., 9.],\n",
              "       [6., 9.],\n",
              "       [6., 9.],\n",
              "       [6., 9.],\n",
              "       [6., 9.]])"
            ]
          },
          "metadata": {},
          "execution_count": 45
        }
      ],
      "source": [
        "m1 = np.ones(15).reshape((5,3))\n",
        "m2 = np.arange(6).reshape((3,2))\n",
        "m=np.dot(m1,m2)\n",
        "m"
      ]
    },
    {
      "cell_type": "markdown",
      "metadata": {
        "id": "W6ib-D1VmvxS"
      },
      "source": [
        "#### 25. Given a 1D array, negate all elements which are between 3 and 8, in place. (★☆☆) \n",
        "(**hint**: >, <=)"
      ]
    },
    {
      "cell_type": "code",
      "execution_count": null,
      "metadata": {
        "id": "tWmoYlB3mvxS",
        "colab": {
          "base_uri": "https://localhost:8080/"
        },
        "outputId": "1dbae7e1-ee86-497b-e3a4-8e5f22e8f6b9"
      },
      "outputs": [
        {
          "output_type": "execute_result",
          "data": {
            "text/plain": [
              "array([ 0,  1,  2, -1, -1, -1, -1, -1, -1,  9, 10])"
            ]
          },
          "metadata": {},
          "execution_count": 46
        }
      ],
      "source": [
        "x = np.arange(11)\n",
        "x[(x >= 3) & (x <= 8)] = -1\n",
        "x"
      ]
    },
    {
      "cell_type": "markdown",
      "metadata": {
        "id": "4x5nvGZumvxS"
      },
      "source": [
        "#### 26. What is the output of the following script? (★☆☆) \n",
        "(**hint**: np.sum)"
      ]
    },
    {
      "cell_type": "markdown",
      "metadata": {
        "id": "zhSwy0sNmvxS"
      },
      "source": [
        "```python\n",
        "# Author: Jake VanderPlas\n",
        "\n",
        "print(sum(range(5),-1))\n",
        "from numpy import *\n",
        "print(sum(range(5),-1))\n",
        "```"
      ]
    },
    {
      "cell_type": "code",
      "execution_count": null,
      "metadata": {
        "id": "l2FJpTQAmvxS",
        "colab": {
          "base_uri": "https://localhost:8080/"
        },
        "outputId": "fa51221b-2ca5-46e9-a03c-dfd4c137d4ec"
      },
      "outputs": [
        {
          "output_type": "execute_result",
          "data": {
            "text/plain": [
              "10"
            ]
          },
          "metadata": {},
          "execution_count": 47
        }
      ],
      "source": [
        "9\n",
        "10"
      ]
    },
    {
      "cell_type": "markdown",
      "metadata": {
        "id": "LSCNg9aqmvxS"
      },
      "source": [
        "#### 27. Consider an integer vector Z, which of these expressions are legal? (★☆☆)"
      ]
    },
    {
      "cell_type": "markdown",
      "metadata": {
        "id": "ABlT1znVmvxS"
      },
      "source": [
        "```python\n",
        "Z**Z\n",
        "2 << Z >> 2\n",
        "Z <- Z\n",
        "1j*Z\n",
        "Z/1/1\n",
        "Z<Z>Z\n",
        "```"
      ]
    },
    {
      "cell_type": "code",
      "execution_count": null,
      "metadata": {
        "id": "mlQriKt-mvxS",
        "colab": {
          "base_uri": "https://localhost:8080/",
          "height": 235
        },
        "outputId": "4f7928de-3e4a-4d00-c697-f65347b39609"
      },
      "outputs": [
        {
          "output_type": "error",
          "ename": "NameError",
          "evalue": "ignored",
          "traceback": [
            "\u001b[0;31m---------------------------------------------------------------------------\u001b[0m",
            "\u001b[0;31mNameError\u001b[0m                                 Traceback (most recent call last)",
            "\u001b[0;32m<ipython-input-49-e96cafb65801>\u001b[0m in \u001b[0;36m<module>\u001b[0;34m()\u001b[0m\n\u001b[0;32m----> 1\u001b[0;31m \u001b[0mZ\u001b[0m \u001b[0;34m**\u001b[0m \u001b[0mZ\u001b[0m       \u001b[0;31m# = [0^0, 1^1, 2^2] = [1, 1, 4]\u001b[0m\u001b[0;34m\u001b[0m\u001b[0;34m\u001b[0m\u001b[0m\n\u001b[0m\u001b[1;32m      2\u001b[0m \u001b[0;36m2\u001b[0m \u001b[0;34m<<\u001b[0m \u001b[0mZ\u001b[0m \u001b[0;34m>>\u001b[0m \u001b[0;36m2\u001b[0m  \u001b[0;31m# = [0, 1, 2]\u001b[0m\u001b[0;34m\u001b[0m\u001b[0;34m\u001b[0m\u001b[0m\n\u001b[1;32m      3\u001b[0m \u001b[0mZ\u001b[0m \u001b[0;34m<\u001b[0m \u001b[0;34m-\u001b[0m \u001b[0mZ\u001b[0m      \u001b[0;31m# = [False, False, False]\u001b[0m\u001b[0;34m\u001b[0m\u001b[0;34m\u001b[0m\u001b[0m\n\u001b[1;32m      4\u001b[0m \u001b[0;36m1j\u001b[0m \u001b[0;34m*\u001b[0m \u001b[0mZ\u001b[0m       \u001b[0;31m# = [0 + 0.j, 0 + 1.j, 0 + 2.j]\u001b[0m\u001b[0;34m\u001b[0m\u001b[0;34m\u001b[0m\u001b[0m\n\u001b[1;32m      5\u001b[0m \u001b[0mZ\u001b[0m \u001b[0;34m/\u001b[0m \u001b[0;36m1\u001b[0m \u001b[0;34m/\u001b[0m \u001b[0;36m1\u001b[0m    \u001b[0;31m# = [0, 1, 2]\u001b[0m\u001b[0;34m\u001b[0m\u001b[0;34m\u001b[0m\u001b[0m\n",
            "\u001b[0;31mNameError\u001b[0m: name 'Z' is not defined"
          ]
        }
      ],
      "source": [
        "Z ** Z       # = [0^0, 1^1, 2^2] = [1, 1, 4]\n",
        "2 << Z >> 2  # = [0, 1, 2]\n",
        "Z < - Z      # = [False, False, False]\n",
        "1j * Z       # = [0 + 0.j, 0 + 1.j, 0 + 2.j]\n",
        "Z / 1 / 1    # = [0, 1, 2]\n",
        "Z < Z > Z    # ValueError"
      ]
    },
    {
      "cell_type": "markdown",
      "metadata": {
        "id": "8gICmwvjmvxT"
      },
      "source": [
        "#### 28. What are the result of the following expressions?"
      ]
    },
    {
      "cell_type": "markdown",
      "metadata": {
        "id": "CHaSmmUOmvxT"
      },
      "source": [
        "```python\n",
        "np.array(0) / np.array(0)\n",
        "np.array(0) // np.array(0)\n",
        "np.array([np.nan]).astype(int).astype(float)\n",
        "```"
      ]
    },
    {
      "cell_type": "code",
      "execution_count": null,
      "metadata": {
        "id": "zAbJ5GmFmvxT",
        "colab": {
          "base_uri": "https://localhost:8080/"
        },
        "outputId": "23d0cc1d-3dc5-4bc4-d847-db38bc89b4d1"
      },
      "outputs": [
        {
          "output_type": "stream",
          "name": "stderr",
          "text": [
            "/usr/local/lib/python3.7/dist-packages/ipykernel_launcher.py:1: RuntimeWarning: invalid value encountered in true_divide\n",
            "  \"\"\"Entry point for launching an IPython kernel.\n",
            "/usr/local/lib/python3.7/dist-packages/ipykernel_launcher.py:2: RuntimeWarning: divide by zero encountered in floor_divide\n",
            "  \n"
          ]
        },
        {
          "output_type": "execute_result",
          "data": {
            "text/plain": [
              "array([-9.22337204e+18])"
            ]
          },
          "metadata": {},
          "execution_count": 50
        }
      ],
      "source": [
        "np.array(0) / np.array(0)\n",
        "np.array(0) // np.array(0)\n",
        "np.array([np.nan]).astype(int).astype(float)"
      ]
    },
    {
      "cell_type": "markdown",
      "metadata": {
        "id": "hD42Jm_lmvxT"
      },
      "source": [
        "#### 29. How to round away from zero a float array ? (★☆☆) \n",
        "(**hint**: np.uniform, np.copysign, np.ceil, np.abs)"
      ]
    },
    {
      "cell_type": "code",
      "execution_count": null,
      "metadata": {
        "id": "4ITGtZazmvxT",
        "colab": {
          "base_uri": "https://localhost:8080/"
        },
        "outputId": "cd92291a-722b-4d3c-8533-e9a5d09e6fe9"
      },
      "outputs": [
        {
          "output_type": "execute_result",
          "data": {
            "text/plain": [
              "array([ 1.,  6.,  9., -1.,  1., -1., -1.,  1.,  8., 10.])"
            ]
          },
          "metadata": {},
          "execution_count": 51
        }
      ],
      "source": [
        "x = np.random.uniform(-10, +10, 10)\n",
        "np.copysign(np.ceil(np.abs(x)), x)"
      ]
    },
    {
      "cell_type": "markdown",
      "metadata": {
        "id": "LMtWMoodmvxT"
      },
      "source": [
        "#### 30. How to find common values between two arrays? (★☆☆) \n",
        "(**hint**: np.intersect1d)"
      ]
    },
    {
      "cell_type": "code",
      "execution_count": null,
      "metadata": {
        "id": "Ru_JjYDlmvxT",
        "colab": {
          "base_uri": "https://localhost:8080/"
        },
        "outputId": "9ddc3cb3-b9d0-4607-f6d8-4c961e72eaed"
      },
      "outputs": [
        {
          "output_type": "execute_result",
          "data": {
            "text/plain": [
              "array([3])"
            ]
          },
          "metadata": {},
          "execution_count": 52
        }
      ],
      "source": [
        "np.intersect1d([1,2,3,4],[3,9,5,6])"
      ]
    },
    {
      "cell_type": "markdown",
      "metadata": {
        "id": "PPCT3OU2mvxT"
      },
      "source": [
        "#### 31. How to ignore all numpy warnings (not recommended)? (★☆☆) \n",
        "(**hint**: np.seterr, np.errstate)"
      ]
    },
    {
      "cell_type": "code",
      "execution_count": null,
      "metadata": {
        "id": "q1AbYiW0mvxT",
        "colab": {
          "base_uri": "https://localhost:8080/"
        },
        "outputId": "9dcb342c-97a3-4149-af43-8e6299ed8846"
      },
      "outputs": [
        {
          "output_type": "execute_result",
          "data": {
            "text/plain": [
              "array([inf])"
            ]
          },
          "metadata": {},
          "execution_count": 53
        }
      ],
      "source": [
        "defaults = np.seterr(all=\"ignore\")\n",
        "Z = np.ones(1) / 0\n",
        "Z"
      ]
    },
    {
      "cell_type": "markdown",
      "metadata": {
        "id": "y4gWXEaNmvxT"
      },
      "source": [
        "#### 32. Is the following expressions true? (★☆☆) \n",
        "(**hint**: imaginary number)"
      ]
    },
    {
      "cell_type": "markdown",
      "metadata": {
        "id": "QfPf7_MWmvxT"
      },
      "source": [
        "```python\n",
        "np.sqrt(-1) == np.emath.sqrt(-1)\n",
        "```"
      ]
    },
    {
      "cell_type": "code",
      "execution_count": null,
      "metadata": {
        "id": "_cqJMWOwmvxT"
      },
      "outputs": [],
      "source": [
        "#False"
      ]
    },
    {
      "cell_type": "markdown",
      "metadata": {
        "id": "oF9stD4MmvxU"
      },
      "source": [
        "#### 33. How to get the dates of yesterday, today and tomorrow? (★☆☆) \n",
        "(**hint**: np.datetime64, np.timedelta64)"
      ]
    },
    {
      "cell_type": "code",
      "execution_count": null,
      "metadata": {
        "collapsed": true,
        "id": "6xvKbukomvxU",
        "colab": {
          "base_uri": "https://localhost:8080/"
        },
        "outputId": "f07d7490-8b7c-4f0f-da35-4ef921e9b294"
      },
      "outputs": [
        {
          "output_type": "stream",
          "name": "stdout",
          "text": [
            "2022-08-06\n",
            "2022-08-05\n",
            "2022-08-07\n"
          ]
        }
      ],
      "source": [
        "today = np.datetime64('today', 'D')\n",
        "yesterday = np.datetime64('today', 'D') - np.timedelta64(1, 'D')\n",
        "tomorrow =np.datetime64('today', 'D') + np.timedelta64(1, 'D')\n",
        "print(today)\n",
        "print(yesterday)\n",
        "print(tomorrow)"
      ]
    },
    {
      "cell_type": "markdown",
      "metadata": {
        "id": "IxYK9MT6mvxU"
      },
      "source": [
        "#### 34. How to get all the dates corresponding to the month of July 2016? (★★☆) \n",
        "(**hint**: np.arange(dtype=datetime64\\['D'\\]))"
      ]
    },
    {
      "cell_type": "code",
      "execution_count": null,
      "metadata": {
        "id": "QhYpaDeumvxU"
      },
      "outputs": [],
      "source": [
        "j = np.arange('2016-07', '2016-08', dtype='datetime64[D]')\n",
        "j"
      ]
    },
    {
      "cell_type": "markdown",
      "metadata": {
        "id": "sretUmUKmvxU"
      },
      "source": [
        "#### 35. How to compute ((A+B)\\*(-A/2)) in place (without copy)? (★★☆) \n",
        "(**hint**: np.add(out=), np.negative(out=), np.multiply(out=), np.divide(out=))"
      ]
    },
    {
      "cell_type": "code",
      "execution_count": null,
      "metadata": {
        "id": "MuLehZ23mvxU",
        "colab": {
          "base_uri": "https://localhost:8080/"
        },
        "outputId": "57bebfff-152c-4f88-d9fc-b9209795cb13"
      },
      "outputs": [
        {
          "output_type": "execute_result",
          "data": {
            "text/plain": [
              "array([-1.5, -1.5, -1.5])"
            ]
          },
          "metadata": {},
          "execution_count": 56
        }
      ],
      "source": [
        "A = np.ones(3) * 1\n",
        "B = np.ones(3) * 2\n",
        "C = np.ones(3) * 3\n",
        "np.add(A, B, out=B)\n",
        "np.divide(A, 2, out=A)\n",
        "np.negative(A, out=A)\n",
        "np.multiply(A, B, out=A)"
      ]
    },
    {
      "cell_type": "markdown",
      "metadata": {
        "id": "1-ylnCbRmvxU"
      },
      "source": [
        "#### 36. Extract the integer part of a random array using 5 different methods (★★☆) \n",
        "(**hint**: %, np.floor, np.ceil, astype, np.trunc)"
      ]
    },
    {
      "cell_type": "code",
      "execution_count": null,
      "metadata": {
        "id": "jRaXjVOqmvxU"
      },
      "outputs": [],
      "source": [
        "x = np.random.uniform(-10, +10, 10)\n",
        "x.astype(np.int32)\n",
        "np.trunc(x)"
      ]
    },
    {
      "cell_type": "markdown",
      "metadata": {
        "id": "vNd5BrP6mvxU"
      },
      "source": [
        "#### 37. Create a 5x5 matrix with row values ranging from 0 to 4 (★★☆) \n",
        "(**hint**: np.arange)"
      ]
    },
    {
      "cell_type": "code",
      "execution_count": null,
      "metadata": {
        "id": "gJKbT2PRmvxU",
        "colab": {
          "base_uri": "https://localhost:8080/"
        },
        "outputId": "ba203b25-c021-4f8e-e8b0-683f8ef73d27"
      },
      "outputs": [
        {
          "output_type": "execute_result",
          "data": {
            "text/plain": [
              "array([[0., 1., 2., 3., 4.],\n",
              "       [0., 1., 2., 3., 4.],\n",
              "       [0., 1., 2., 3., 4.],\n",
              "       [0., 1., 2., 3., 4.],\n",
              "       [0., 1., 2., 3., 4.]])"
            ]
          },
          "metadata": {},
          "execution_count": 57
        }
      ],
      "source": [
        "x = np.zeros((5, 5))\n",
        "x += np.arange(5)\n",
        "x"
      ]
    },
    {
      "cell_type": "markdown",
      "metadata": {
        "id": "c1-yiUJUmvxU"
      },
      "source": [
        "#### 38. Consider a generator function that generates 10 integers and use it to build an array (★☆☆) \n",
        "(**hint**: np.fromiter)"
      ]
    },
    {
      "cell_type": "code",
      "execution_count": null,
      "metadata": {
        "id": "BR7AB1l7mvxU",
        "colab": {
          "base_uri": "https://localhost:8080/"
        },
        "outputId": "89759e37-0206-4998-9344-55d211728092"
      },
      "outputs": [
        {
          "output_type": "execute_result",
          "data": {
            "text/plain": [
              "array([0., 1., 2., 3., 4., 5., 6., 7., 8., 9.], dtype=float32)"
            ]
          },
          "metadata": {},
          "execution_count": 59
        }
      ],
      "source": [
        "def generate_integers():\n",
        "    for i in range(10):\n",
        "        yield i\n",
        "np.fromiter(generate_integers(), dtype=np.float32, count=-1)"
      ]
    },
    {
      "cell_type": "markdown",
      "metadata": {
        "id": "N4djWMg4mvxV"
      },
      "source": [
        "#### 39. Create a vector of size 10 with values ranging from 0 to 1, both excluded (★★☆) \n",
        "(**hint**: np.linspace)"
      ]
    },
    {
      "cell_type": "code",
      "execution_count": null,
      "metadata": {
        "id": "sR6v6n8FmvxV",
        "colab": {
          "base_uri": "https://localhost:8080/"
        },
        "outputId": "42460692-91c6-424a-ab5a-c5c00ae19a78"
      },
      "outputs": [
        {
          "output_type": "execute_result",
          "data": {
            "text/plain": [
              "array([0. , 1.1, 2.2, 3.3, 4.4, 5.5, 6.6, 7.7, 8.8, 9.9])"
            ]
          },
          "metadata": {},
          "execution_count": 61
        }
      ],
      "source": [
        "np.linspace(start=0, stop=11, num=10, endpoint=False)"
      ]
    },
    {
      "cell_type": "markdown",
      "metadata": {
        "id": "Blu8It0emvxV"
      },
      "source": [
        "#### 40. Create a random vector of size 10 and sort it (★★☆) \n",
        "(**hint**: sort)"
      ]
    },
    {
      "cell_type": "code",
      "execution_count": null,
      "metadata": {
        "id": "1FAfvy9cmvxV",
        "colab": {
          "base_uri": "https://localhost:8080/"
        },
        "outputId": "fc8772ae-0df9-434c-8504-6e9df7223025"
      },
      "outputs": [
        {
          "output_type": "execute_result",
          "data": {
            "text/plain": [
              "array([0.00192163, 0.02924937, 0.17834979, 0.31097232, 0.37473575,\n",
              "       0.38120643, 0.52107827, 0.5544426 , 0.59298098, 0.93270455])"
            ]
          },
          "metadata": {},
          "execution_count": 60
        }
      ],
      "source": [
        "x = np.random.random(size=10)\n",
        "x.sort()\n",
        "x"
      ]
    },
    {
      "cell_type": "markdown",
      "metadata": {
        "id": "ZbHuSqCzmvxV"
      },
      "source": [
        "#### 41. How to sum a small array faster than np.sum? (★★☆) \n",
        "(**hint**: np.add.reduce)"
      ]
    },
    {
      "cell_type": "code",
      "execution_count": null,
      "metadata": {
        "id": "Q-osBF2CmvxV"
      },
      "outputs": [],
      "source": [
        "import time\n",
        "begin_time = time.time()\n",
        "x = np.arange(1000000)\n",
        "np.sum(x)\n",
        "end_time = time.time()\n",
        "print(str(1000*(end_time - begin_time)))\n",
        "\n",
        "begin_time2 = time.time()\n",
        "x = np.arange(1000000)\n",
        "np.add.reduce(x)\n",
        "end_time2 = time.time()\n",
        "print(str(1000*(end_time2 - begin_time2)))"
      ]
    },
    {
      "cell_type": "markdown",
      "metadata": {
        "id": "yzGMDOjMmvxV"
      },
      "source": [
        "#### 42. Consider two random array A and B, check if they are equal (★★☆) \n",
        "(**hint**: np.allclose, np.array\\_equal)"
      ]
    },
    {
      "cell_type": "code",
      "execution_count": null,
      "metadata": {
        "id": "CW5qaMXDmvxV"
      },
      "outputs": [],
      "source": [
        "A = np.arange(10)\n",
        "B = np.arange(10)\n",
        "np.array_equal(A, B)"
      ]
    },
    {
      "cell_type": "markdown",
      "metadata": {
        "id": "qTqJi4FlmvxV"
      },
      "source": [
        "#### 43. Make an array immutable (read-only) (★★☆) \n",
        "(**hint**: flags.writeable)"
      ]
    },
    {
      "cell_type": "code",
      "execution_count": null,
      "metadata": {
        "id": "0O52eEKAmvxV",
        "colab": {
          "base_uri": "https://localhost:8080/",
          "height": 200
        },
        "outputId": "fd6dddc4-443a-4c5e-c8fc-32aa44f80f54"
      },
      "outputs": [
        {
          "output_type": "error",
          "ename": "ValueError",
          "evalue": "ignored",
          "traceback": [
            "\u001b[0;31m---------------------------------------------------------------------------\u001b[0m",
            "\u001b[0;31mValueError\u001b[0m                                Traceback (most recent call last)",
            "\u001b[0;32m<ipython-input-64-a74a803c301d>\u001b[0m in \u001b[0;36m<module>\u001b[0;34m()\u001b[0m\n\u001b[1;32m      1\u001b[0m \u001b[0mx\u001b[0m \u001b[0;34m=\u001b[0m \u001b[0mnp\u001b[0m\u001b[0;34m.\u001b[0m\u001b[0mzeros\u001b[0m\u001b[0;34m(\u001b[0m\u001b[0;36m10\u001b[0m\u001b[0;34m)\u001b[0m\u001b[0;34m\u001b[0m\u001b[0;34m\u001b[0m\u001b[0m\n\u001b[1;32m      2\u001b[0m \u001b[0mx\u001b[0m\u001b[0;34m.\u001b[0m\u001b[0mflags\u001b[0m\u001b[0;34m.\u001b[0m\u001b[0mwriteable\u001b[0m \u001b[0;34m=\u001b[0m \u001b[0;32mFalse\u001b[0m\u001b[0;34m\u001b[0m\u001b[0;34m\u001b[0m\u001b[0m\n\u001b[0;32m----> 3\u001b[0;31m \u001b[0mx\u001b[0m\u001b[0;34m[\u001b[0m\u001b[0;36m1\u001b[0m\u001b[0;34m]\u001b[0m \u001b[0;34m=\u001b[0m \u001b[0;36m1\u001b[0m\u001b[0;34m\u001b[0m\u001b[0;34m\u001b[0m\u001b[0m\n\u001b[0m",
            "\u001b[0;31mValueError\u001b[0m: assignment destination is read-only"
          ]
        }
      ],
      "source": [
        "x = np.zeros(10)\n",
        "x.flags.writeable = False\n",
        "x[1] = 1 "
      ]
    },
    {
      "cell_type": "markdown",
      "metadata": {
        "id": "EXZ6NzRcmvxV"
      },
      "source": [
        "#### 44. Consider a random 10x2 matrix representing cartesian coordinates, convert them to polar coordinates (★★☆) \n",
        "(**hint**: np.sqrt, np.arctan2)"
      ]
    },
    {
      "cell_type": "code",
      "execution_count": null,
      "metadata": {
        "id": "Plakp_RNmvxV",
        "colab": {
          "base_uri": "https://localhost:8080/"
        },
        "outputId": "7f70271d-84f6-47f8-f156-25277e5be761"
      },
      "outputs": [
        {
          "output_type": "stream",
          "name": "stdout",
          "text": [
            "[0.13031093 0.52616103 0.93564438 0.4609746  0.46628566 1.03302846\n",
            " 0.61488959 0.25497411 0.8683511  0.6683749 ]\n",
            "[1.49448955 0.45024908 0.69198084 0.25991175 1.4171189  0.42710111\n",
            " 0.7216602  1.15195376 0.72867034 0.10347596]\n"
          ]
        }
      ],
      "source": [
        "Z = np.random.random((10, 2))\n",
        "X, Y = Z[:, 0], Z[:, 1]\n",
        "R = np.sqrt(X ** 2 + Y ** 2)\n",
        "T = np.arctan2(Y, X)\n",
        "print(R)\n",
        "print(T)"
      ]
    },
    {
      "cell_type": "markdown",
      "metadata": {
        "id": "_CeAsXjrmvxW"
      },
      "source": [
        "#### 45. Create random vector of size 10 and replace the maximum value by 0 (★★☆) \n",
        "(**hint**: argmax)"
      ]
    },
    {
      "cell_type": "code",
      "execution_count": null,
      "metadata": {
        "id": "KQOTuHGqmvxW"
      },
      "outputs": [],
      "source": [
        "x = np.random.random(10)\n",
        "x[x == np.max(x)] = 0\n",
        "x[x.argmax()] = 0"
      ]
    },
    {
      "cell_type": "markdown",
      "metadata": {
        "id": "Nspv_7VmmvxW"
      },
      "source": [
        "#### 46. Create a structured array with `x` and `y` coordinates covering the \\[0,1\\]x\\[0,1\\] area (★★☆) \n",
        "(**hint**: np.meshgrid)"
      ]
    },
    {
      "cell_type": "code",
      "execution_count": null,
      "metadata": {
        "id": "Rh5DS9limvxW"
      },
      "outputs": [],
      "source": [
        "z = np.zeros((5, 5), [('x', float), ('y', float)])\n",
        "z['x'], z['y'] = np.meshgrid(np.linspace(0, 1, 5), np.linspace(0, 1, 5))"
      ]
    },
    {
      "cell_type": "markdown",
      "metadata": {
        "id": "0kxlkApRmvxW"
      },
      "source": [
        "####  47. Given two arrays, X and Y, construct the Cauchy matrix C (Cij =1/(xi - yj)) \n",
        "(**hint**: np.subtract.outer)"
      ]
    },
    {
      "cell_type": "code",
      "execution_count": null,
      "metadata": {
        "id": "JJdSHfpNmvxW"
      },
      "outputs": [],
      "source": [
        "x = np.random.random((5, 5))\n",
        "y = np.random.random((5, 5))\n",
        "c = 1 / (x - y)\n",
        "c = 1 / np.subtract.outer(x, y)\n",
        "np.linalg.det(c)"
      ]
    },
    {
      "cell_type": "markdown",
      "metadata": {
        "id": "3XGoZG3amvxW"
      },
      "source": [
        "#### 48. Print the minimum and maximum representable value for each numpy scalar type (★★☆) \n",
        "(**hint**: np.iinfo, np.finfo, eps)"
      ]
    },
    {
      "cell_type": "code",
      "execution_count": null,
      "metadata": {
        "id": "NNzNG6dmmvxW"
      },
      "outputs": [],
      "source": [
        "for dtype in [np.int8, np.int32, np.int64]:\n",
        "   print(np.iinfo(dtype).min)\n",
        "   print(np.iinfo(dtype).max)\n",
        "for dtype in [np.float32, np.float64]:\n",
        "   print(np.finfo(dtype).min)\n",
        "   print(np.finfo(dtype).max)\n",
        "   print(np.finfo(dtype).eps)"
      ]
    },
    {
      "cell_type": "markdown",
      "metadata": {
        "id": "Uf8fmFP6mvxW"
      },
      "source": [
        "#### 49. How to print all the values of an array? (★★☆) \n",
        "(**hint**: np.set\\_printoptions)"
      ]
    },
    {
      "cell_type": "code",
      "execution_count": null,
      "metadata": {
        "id": "gHBFJA49mvxW"
      },
      "outputs": [],
      "source": [
        "np.set_printoptions(threshold=np.nan)\n",
        "o = np.zeros((16,16))\n",
        "print(o)"
      ]
    },
    {
      "cell_type": "markdown",
      "metadata": {
        "id": "6NfDcWOJmvxW"
      },
      "source": [
        "#### 50. How to find the closest value (to a given scalar) in a vector? (★★☆) \n",
        "(**hint**: argmin)"
      ]
    },
    {
      "cell_type": "code",
      "execution_count": null,
      "metadata": {
        "id": "05L-LbkLmvxW"
      },
      "outputs": [],
      "source": [
        "Z = np.arange(100)\n",
        "v = np.random.uniform(0,100)\n",
        "index = (np.abs(Z-v)).argmin()\n",
        "print(Z[index])"
      ]
    },
    {
      "cell_type": "markdown",
      "metadata": {
        "id": "DmgU0htEmvxX"
      },
      "source": [
        "#### 51. Create a structured array representing a position (x,y) and a color (r,g,b) (★★☆) \n",
        "(**hint**: dtype)"
      ]
    },
    {
      "cell_type": "code",
      "execution_count": null,
      "metadata": {
        "id": "i2D4s29XmvxX"
      },
      "outputs": [],
      "source": [
        "Z = np.zeros(10, [ ('position', [ ('x', float, 1),\n",
        "                                  ('y', float, 1)]),\n",
        "                   ('color',    [ ('r', float, 1),\n",
        "                                  ('g', float, 1),\n",
        "                                  ('b', float, 1)])])\n",
        "print(Z)"
      ]
    },
    {
      "cell_type": "markdown",
      "metadata": {
        "id": "tAO_20lSmvxX"
      },
      "source": [
        "#### 52. Consider a random vector with shape (100,2) representing coordinates, find point by point distances (★★☆) \n",
        "(**hint**: np.atleast\\_2d, T, np.sqrt)"
      ]
    },
    {
      "cell_type": "code",
      "execution_count": null,
      "metadata": {
        "id": "vPvnhjahmvxX"
      },
      "outputs": [],
      "source": [
        "Z = np.random.random((10,2))\n",
        "X,Y = np.atleast_2d(Z[:,0], Z[:,1])\n",
        "D = np.sqrt( (X-X.T)**2 + (Y-Y.T)**2)\n",
        "print(D)\n",
        "\n",
        "# Much faster with scipy\n",
        "import scipy\n",
        "# Thanks Gavin Heverly-Coulson (#issue 1)\n",
        "import scipy.spatial\n",
        "\n",
        "Z = np.random.random((10,2))\n",
        "D = scipy.spatial.distance.cdist(Z,Z)\n",
        "print(D)"
      ]
    },
    {
      "cell_type": "markdown",
      "metadata": {
        "id": "0zIWLjalmvxX"
      },
      "source": [
        "#### 53. How to convert a float (32 bits) array into an integer (32 bits) in place? \n",
        "(**hint**: astype(copy=False))"
      ]
    },
    {
      "cell_type": "code",
      "execution_count": null,
      "metadata": {
        "id": "V49LiUJfmvxX"
      },
      "outputs": [],
      "source": [
        "Z = np.arange(10, dtype=np.int32)\n",
        "Z = Z.astype(np.float32, copy=False)\n",
        "print(Z)"
      ]
    },
    {
      "cell_type": "markdown",
      "metadata": {
        "id": "SC78-8F8mvxY"
      },
      "source": [
        "#### 54. How to read the following file? (★★☆) \n",
        "(**hint**: np.genfromtxt)"
      ]
    },
    {
      "cell_type": "markdown",
      "metadata": {
        "id": "QnyKdiHwmvxY"
      },
      "source": [
        "```\n",
        "1, 2, 3, 4, 5\n",
        "6,  ,  , 7, 8\n",
        " ,  , 9,10,11\n",
        "```"
      ]
    },
    {
      "cell_type": "code",
      "execution_count": null,
      "metadata": {
        "id": "qw-VEg3WmvxY"
      },
      "outputs": [],
      "source": [
        "from io import StringIO\n",
        "\n",
        "# Fake file \n",
        "s = StringIO(\"\"\"1, 2, 3, 4, 5\\n\n",
        "                6,  ,  , 7, 8\\n\n",
        "                 ,  , 9,10,11\\n\"\"\")\n",
        "Z = np.genfromtxt(s, delimiter=\",\", dtype=np.int)\n",
        "print(Z)"
      ]
    },
    {
      "cell_type": "markdown",
      "metadata": {
        "id": "Aj_KyYSSmvxY"
      },
      "source": [
        "#### 55. What is the equivalent of enumerate for numpy arrays? (★★☆) \n",
        "(**hint**: np.ndenumerate, np.ndindex)"
      ]
    },
    {
      "cell_type": "code",
      "execution_count": null,
      "metadata": {
        "id": "E5DCgYVimvxY"
      },
      "outputs": [],
      "source": [
        "Z = np.arange(9).reshape(3,3)\n",
        "for index, value in np.ndenumerate(Z):\n",
        "    print(index, value)\n",
        "for index in np.ndindex(Z.shape):\n",
        "    print(index, Z[index])"
      ]
    },
    {
      "cell_type": "markdown",
      "metadata": {
        "id": "qDaAjds9mvxY"
      },
      "source": [
        "#### 56. Generate a generic 2D Gaussian-like array (★★☆) \n",
        "(**hint**: np.meshgrid, np.exp)"
      ]
    },
    {
      "cell_type": "code",
      "execution_count": null,
      "metadata": {
        "id": "e2CJQQj2mvxY"
      },
      "outputs": [],
      "source": [
        "X, Y = np.meshgrid(np.linspace(-1,1,10), np.linspace(-1,1,10))\n",
        "D = np.sqrt(X*X+Y*Y)\n",
        "sigma, mu = 1.0, 0.0\n",
        "G = np.exp(-( (D-mu)**2 / ( 2.0 * sigma**2 ) ) )\n",
        "print(G)"
      ]
    },
    {
      "cell_type": "markdown",
      "metadata": {
        "id": "Kpo8Dsu9mvxY"
      },
      "source": [
        "#### 57. How to randomly place p elements in a 2D array? (★★☆) \n",
        "(**hint**: np.put, np.random.choice)"
      ]
    },
    {
      "cell_type": "code",
      "execution_count": null,
      "metadata": {
        "id": "Bn6T9ZOKmvxY"
      },
      "outputs": [],
      "source": [
        "n = 10\n",
        "p = 3\n",
        "Z = np.zeros((n,n))\n",
        "np.put(Z, np.random.choice(range(n*n), p, replace=False),1)\n",
        "print(Z)"
      ]
    },
    {
      "cell_type": "markdown",
      "metadata": {
        "id": "6LoLRAremvxY"
      },
      "source": [
        "#### 58. Subtract the mean of each row of a matrix (★★☆) \n",
        "(**hint**: mean(axis=,keepdims=))"
      ]
    },
    {
      "cell_type": "code",
      "execution_count": null,
      "metadata": {
        "id": "WvlWhOIHmvxY"
      },
      "outputs": [],
      "source": [
        "\n",
        "X = np.random.rand(5, 10)\n",
        "\n",
        "# Recent versions of numpy\n",
        "Y = X - X.mean(axis=1, keepdims=True)\n",
        "\n",
        "# Older versions of numpy\n",
        "Y = X - X.mean(axis=1).reshape(-1, 1)\n",
        "\n",
        "print(Y)"
      ]
    },
    {
      "cell_type": "markdown",
      "metadata": {
        "id": "aykzJtf1mvxZ"
      },
      "source": [
        "#### 59. How to sort an array by the nth column? (★★☆) \n",
        "(**hint**: argsort)"
      ]
    },
    {
      "cell_type": "code",
      "execution_count": null,
      "metadata": {
        "id": "PbbsewlEmvxZ"
      },
      "outputs": [],
      "source": [
        "Z = np.random.randint(0,10,(3,3))\n",
        "print(Z)\n",
        "print(Z[Z[:,1].argsort()])"
      ]
    },
    {
      "cell_type": "markdown",
      "metadata": {
        "id": "6Yb4TROWmvxZ"
      },
      "source": [
        "#### 60. How to tell if a given 2D array has null columns? (★★☆) \n",
        "(**hint**: any, ~)"
      ]
    },
    {
      "cell_type": "code",
      "execution_count": null,
      "metadata": {
        "id": "0FDCrRw2mvxZ"
      },
      "outputs": [],
      "source": [
        "Z = np.random.randint(0,3,(3,10))\n",
        "print((~Z.any(axis=0)).any())"
      ]
    },
    {
      "cell_type": "markdown",
      "metadata": {
        "id": "2EgloV-VmvxZ"
      },
      "source": [
        "#### 61. Find the nearest value from a given value in an array (★★☆) \n",
        "(**hint**: np.abs, argmin, flat)"
      ]
    },
    {
      "cell_type": "code",
      "execution_count": null,
      "metadata": {
        "id": "nZQac7L9mvxZ"
      },
      "outputs": [],
      "source": [
        "J= np.random.uniform(0,1,10)\n",
        "j=0.5\n",
        "m=Z.flat[np.abs(J-j).argmin()]\n",
        "print(m)"
      ]
    },
    {
      "cell_type": "markdown",
      "metadata": {
        "id": "FKdpnV05mvxZ"
      },
      "source": [
        "#### 62. Considering two arrays with shape (1,3) and (3,1), how to compute their sum using an iterator? (★★☆) \n",
        "(**hint**: np.nditer)"
      ]
    },
    {
      "cell_type": "code",
      "execution_count": null,
      "metadata": {
        "id": "I9vHiyIomvxZ"
      },
      "outputs": [],
      "source": [
        "A = np.arange(3).reshape(3,1)\n",
        "B = np.arange(3).reshape(1,3)\n",
        "it = np.nditer([A,B,None])\n",
        "for x,y,z in it: z[...] = x + y\n",
        "print(it.operands[2])"
      ]
    },
    {
      "cell_type": "markdown",
      "metadata": {
        "id": "Z0H00JiumvxZ"
      },
      "source": [
        "#### 63. Create an array class that has a name attribute (★★☆) \n",
        "(**hint**: class method)"
      ]
    },
    {
      "cell_type": "code",
      "execution_count": null,
      "metadata": {
        "id": "X5A_f2WxmvxZ"
      },
      "outputs": [],
      "source": [
        "class NamedArray(np.ndarray):\n",
        "    def __new__(cls, array, name=\"no name\"):\n",
        "        obj = np.asarray(array).view(cls)\n",
        "        obj.name = name\n",
        "        return obj\n",
        "    def __array_finalize__(self, obj):\n",
        "        if obj is None: return\n",
        "        self.info = getattr(obj, 'name', \"no name\")\n",
        "\n",
        "Z = NamedArray(np.arange(10), \"range_10\")\n",
        "print (Z.name)"
      ]
    },
    {
      "cell_type": "markdown",
      "metadata": {
        "id": "nmtG5RRLmvxZ"
      },
      "source": [
        "#### 64. Consider a given vector, how to add 1 to each element indexed by a second vector (be careful with repeated indices)? (★★★) \n",
        "(**hint**: np.bincount | np.add.at)"
      ]
    },
    {
      "cell_type": "code",
      "execution_count": null,
      "metadata": {
        "id": "kQoVhleBmvxZ"
      },
      "outputs": [],
      "source": [
        "Z = np.ones(10)\n",
        "I = np.random.randint(0,len(Z),20)\n",
        "Z += np.bincount(I, minlength=len(Z))\n",
        "print(Z)\n",
        "\n",
        "# Another solution\n",
        "# Author: Bartosz Telenczuk\n",
        "np.add.at(Z, I, 1)\n",
        "print(Z)"
      ]
    },
    {
      "cell_type": "markdown",
      "metadata": {
        "id": "iS07FVY_mvxZ"
      },
      "source": [
        "#### 65. How to accumulate elements of a vector (X) to an array (F) based on an index list (I)? (★★★) \n",
        "(**hint**: np.bincount)"
      ]
    },
    {
      "cell_type": "code",
      "execution_count": null,
      "metadata": {
        "id": "9Adr280Zmvxa"
      },
      "outputs": [],
      "source": [
        "X = [1,2,3,4,5,6]\n",
        "I = [1,3,9,3,4,1]\n",
        "F = np.bincount(I,X)\n",
        "print(F)"
      ]
    },
    {
      "cell_type": "markdown",
      "metadata": {
        "id": "YM-fLbjVmvxa"
      },
      "source": [
        "#### 66. Considering a (w,h,3) image of (dtype=ubyte), compute the number of unique colors (★★★) \n",
        "(**hint**: np.unique)"
      ]
    },
    {
      "cell_type": "code",
      "execution_count": null,
      "metadata": {
        "id": "1reDIQ-umvxa"
      },
      "outputs": [],
      "source": [
        "w,h = 16,16\n",
        "I = np.random.randint(0,2,(h,w,3)).astype(np.ubyte)\n",
        "F = I[...,0]*256*256 + I[...,1]*256 +I[...,2]\n",
        "n = len(np.unique(F))\n",
        "print(np.unique(I))"
      ]
    },
    {
      "cell_type": "markdown",
      "metadata": {
        "id": "pKb5gQHgmvxa"
      },
      "source": [
        "#### 67. Considering a four dimensions array, how to get sum over the last two axis at once? (★★★) \n",
        "(**hint**: sum(axis=(-2,-1)))"
      ]
    },
    {
      "cell_type": "code",
      "execution_count": null,
      "metadata": {
        "id": "FinQzTCjmvxa"
      },
      "outputs": [],
      "source": [
        "f = np.random.randint(0,10,(3,4,3,4))\n",
        "# solution by passing a tuple of axes (introduced in numpy 1.7.0)\n",
        "sum = f.sum(axis=(-2,-1))\n",
        "print(sum)\n",
        "# solution by flattening the last two dimensions into one\n",
        "# (useful for functions that don't accept tuples for axis argument)\n",
        "sum = f.reshape(f.shape[:-2] + (-1,)).sum(axis=-1)\n",
        "print(sum)"
      ]
    },
    {
      "cell_type": "markdown",
      "metadata": {
        "id": "WJDOjNF4mvxa"
      },
      "source": [
        "#### 68. Considering a one-dimensional vector D, how to compute means of subsets of D using a vector S of same size describing subset  indices? (★★★) \n",
        "(**hint**: np.bincount)"
      ]
    },
    {
      "cell_type": "code",
      "execution_count": null,
      "metadata": {
        "id": "_r29nxojmvxa"
      },
      "outputs": [],
      "source": [
        "D = np.random.uniform(0,1,100)\n",
        "S = np.random.randint(0,10,100)\n",
        "D_sums = np.bincount(S, weights=D)\n",
        "D_counts = np.bincount(S)\n",
        "D_means = D_sums / D_counts\n",
        "print(D_means)\n",
        "\n",
        "# Pandas solution as a reference due to more intuitive code\n",
        "import pandas as pd\n",
        "print(pd.Series(D).groupby(S).mean())"
      ]
    },
    {
      "cell_type": "markdown",
      "metadata": {
        "id": "WSzncjksmvxa"
      },
      "source": [
        "#### 69. How to get the diagonal of a dot product? (★★★) \n",
        "(**hint**: np.diag)"
      ]
    },
    {
      "cell_type": "code",
      "execution_count": null,
      "metadata": {
        "id": "QypIfqu3mvxa"
      },
      "outputs": [],
      "source": [
        "A = np.random.uniform(0,1,(5,5))\n",
        "B = np.random.uniform(0,1,(5,5))\n",
        "\n",
        "np.sum(A * B.T, axis=1)\n",
        "\n"
      ]
    },
    {
      "cell_type": "markdown",
      "metadata": {
        "id": "szICKNT_mvxa"
      },
      "source": [
        "#### 70. Consider the vector \\[1, 2, 3, 4, 5\\], how to build a new vector with 3 consecutive zeros interleaved between each value? (★★★) \n",
        "(**hint**: array\\[::4\\])"
      ]
    },
    {
      "cell_type": "code",
      "execution_count": null,
      "metadata": {
        "id": "dpKMybK9mvxa"
      },
      "outputs": [],
      "source": [
        "Z = np.array([1,2,3,4,5])\n",
        "nz = 3\n",
        "Z0 = np.zeros(len(Z) + (len(Z)-1)*(nz))\n",
        "Z0[::nz+1] = Z\n",
        "print(Z0)"
      ]
    },
    {
      "cell_type": "markdown",
      "metadata": {
        "id": "oO8QjYKVmvxa"
      },
      "source": [
        "#### 71. Consider an array of dimension (5,5,3), how to mulitply it by an array with dimensions (5,5)? (★★★) \n",
        "(**hint**: array\\[:, :, None\\])"
      ]
    },
    {
      "cell_type": "code",
      "execution_count": null,
      "metadata": {
        "collapsed": true,
        "id": "0mDA50wWmvxb",
        "colab": {
          "base_uri": "https://localhost:8080/"
        },
        "outputId": "d40ab334-a6cc-432a-88b3-9bbc57bd0d7a"
      },
      "outputs": [
        {
          "output_type": "stream",
          "name": "stdout",
          "text": [
            "[[[2. 2. 2.]\n",
            "  [2. 2. 2.]\n",
            "  [2. 2. 2.]\n",
            "  [2. 2. 2.]\n",
            "  [2. 2. 2.]]\n",
            "\n",
            " [[2. 2. 2.]\n",
            "  [2. 2. 2.]\n",
            "  [2. 2. 2.]\n",
            "  [2. 2. 2.]\n",
            "  [2. 2. 2.]]\n",
            "\n",
            " [[2. 2. 2.]\n",
            "  [2. 2. 2.]\n",
            "  [2. 2. 2.]\n",
            "  [2. 2. 2.]\n",
            "  [2. 2. 2.]]\n",
            "\n",
            " [[2. 2. 2.]\n",
            "  [2. 2. 2.]\n",
            "  [2. 2. 2.]\n",
            "  [2. 2. 2.]\n",
            "  [2. 2. 2.]]\n",
            "\n",
            " [[2. 2. 2.]\n",
            "  [2. 2. 2.]\n",
            "  [2. 2. 2.]\n",
            "  [2. 2. 2.]\n",
            "  [2. 2. 2.]]]\n"
          ]
        }
      ],
      "source": [
        "A = np.ones((5,5,3))\n",
        "B = 2*np.ones((5,5))\n",
        "print(A * B[:,:,None])"
      ]
    },
    {
      "cell_type": "markdown",
      "metadata": {
        "id": "7lHkw8Wfmvxb"
      },
      "source": [
        "#### 72. How to swap two rows of an array? (★★★) \n",
        "(**hint**: array\\[\\[\\]\\] = array\\[\\[\\]\\])"
      ]
    },
    {
      "cell_type": "code",
      "execution_count": null,
      "metadata": {
        "id": "rdQZ71HSmvxb",
        "colab": {
          "base_uri": "https://localhost:8080/"
        },
        "outputId": "209d725a-ec03-4841-a372-aa9f28bed98a"
      },
      "outputs": [
        {
          "output_type": "stream",
          "name": "stdout",
          "text": [
            "[[ 5  6  7  8  9]\n",
            " [ 0  1  2  3  4]\n",
            " [10 11 12 13 14]\n",
            " [15 16 17 18 19]\n",
            " [20 21 22 23 24]]\n"
          ]
        }
      ],
      "source": [
        "A = np.arange(25).reshape(5,5)\n",
        "A[[0,1]] = A[[1,0]]\n",
        "print(A)"
      ]
    },
    {
      "cell_type": "markdown",
      "metadata": {
        "id": "MLynOjkBmvxb"
      },
      "source": [
        "#### 73. Consider a set of 10 triplets describing 10 triangles (with shared vertices), find the set of unique line segments composing all the  triangles (★★★) \n",
        "(**hint**: repeat, np.roll, np.sort, view, np.unique)"
      ]
    },
    {
      "cell_type": "code",
      "execution_count": null,
      "metadata": {
        "id": "aZrJ2gyBmvxb",
        "colab": {
          "base_uri": "https://localhost:8080/"
        },
        "outputId": "d6f8b8fb-3160-47dc-9d72-6bd4423b291a"
      },
      "outputs": [
        {
          "output_type": "stream",
          "name": "stdout",
          "text": [
            "[( 2, 21) ( 2, 48) ( 3, 25) ( 3, 50) (12, 74) (12, 88) (16, 71) (16, 72)\n",
            " (20, 45) (20, 97) (21, 32) (21, 46) (21, 48) (25, 50) (26, 61) (26, 76)\n",
            " (30, 36) (30, 82) (32, 46) (36, 82) (41, 44) (41, 63) (44, 63) (45, 97)\n",
            " (61, 76) (71, 72) (74, 88) (77, 81) (77, 99) (81, 99)]\n"
          ]
        }
      ],
      "source": [
        "faces = np.random.randint(0,100,(10,3))\n",
        "F = np.roll(faces.repeat(2,axis=1),-1,axis=1)\n",
        "F = F.reshape(len(F)*3,2)\n",
        "F = np.sort(F,axis=1)\n",
        "G = F.view( dtype=[('p0',F.dtype),('p1',F.dtype)] )\n",
        "G = np.unique(G)\n",
        "print(G)"
      ]
    },
    {
      "cell_type": "markdown",
      "metadata": {
        "id": "DjqvTr-9mvxb"
      },
      "source": [
        "#### 74. Given an array C that is a bincount, how to produce an array A such that np.bincount(A) == C? (★★★) \n",
        "(**hint**: np.repeat)"
      ]
    },
    {
      "cell_type": "code",
      "execution_count": null,
      "metadata": {
        "id": "JF3i8oRzmvxb",
        "colab": {
          "base_uri": "https://localhost:8080/"
        },
        "outputId": "331f7900-86a9-40fd-bb1b-9ed5044f5088"
      },
      "outputs": [
        {
          "output_type": "stream",
          "name": "stdout",
          "text": [
            "[1 1 2 3 4 4 6]\n"
          ]
        }
      ],
      "source": [
        "C = np.bincount([1,1,2,3,4,4,6])\n",
        "A = np.repeat(np.arange(len(C)), C)\n",
        "print(A)"
      ]
    },
    {
      "cell_type": "markdown",
      "metadata": {
        "id": "UpicU8Irmvxb"
      },
      "source": [
        "#### 75. How to compute averages using a sliding window over an array? (★★★) \n",
        "(**hint**: np.cumsum)"
      ]
    },
    {
      "cell_type": "code",
      "execution_count": null,
      "metadata": {
        "id": "fqzxquOymvxb",
        "colab": {
          "base_uri": "https://localhost:8080/"
        },
        "outputId": "865e1e27-8d2f-4e9e-84a3-a9bed6e4c7cb"
      },
      "outputs": [
        {
          "output_type": "stream",
          "name": "stdout",
          "text": [
            "[ 1.  2.  3.  4.  5.  6.  7.  8.  9. 10. 11. 12. 13. 14. 15. 16. 17. 18.]\n"
          ]
        }
      ],
      "source": [
        "def moving_average(a, n=3) :\n",
        "    ret = np.cumsum(a, dtype=float)\n",
        "    ret[n:] = ret[n:] - ret[:-n]\n",
        "    return ret[n - 1:] / n\n",
        "h = np.arange(20)\n",
        "print(moving_average(h, n=3))"
      ]
    },
    {
      "cell_type": "markdown",
      "metadata": {
        "id": "8fXNXIWbmvxb"
      },
      "source": [
        "#### 76. Consider a one-dimensional array Z, build a two-dimensional array whose first row is (Z\\[0\\],Z\\[1\\],Z\\[2\\]) and each subsequent row is  shifted by 1 (last row should be (Z\\[-3\\],Z\\[-2\\],Z\\[-1\\]) (★★★) \n",
        "(**hint**: from numpy.lib import stride_tricks)"
      ]
    },
    {
      "cell_type": "code",
      "execution_count": null,
      "metadata": {
        "id": "avM0b-vdmvxc",
        "colab": {
          "base_uri": "https://localhost:8080/"
        },
        "outputId": "c0a390be-97ec-4dc7-a89c-bc90c603d6a6"
      },
      "outputs": [
        {
          "output_type": "stream",
          "name": "stdout",
          "text": [
            "[[0 1 2]\n",
            " [1 2 3]\n",
            " [2 3 4]\n",
            " [3 4 5]\n",
            " [4 5 6]\n",
            " [5 6 7]\n",
            " [6 7 8]\n",
            " [7 8 9]]\n"
          ]
        }
      ],
      "source": [
        "from numpy.lib import stride_tricks\n",
        "\n",
        "def rolling(a, window):\n",
        "    shape = (a.size - window + 1, window)\n",
        "    strides = (a.itemsize, a.itemsize)\n",
        "    return stride_tricks.as_strided(a, shape=shape, strides=strides)\n",
        "Z = rolling(np.arange(10), 3)\n",
        "print(Z)"
      ]
    },
    {
      "cell_type": "markdown",
      "metadata": {
        "id": "9y8EYnpbmvxc"
      },
      "source": [
        "#### 77. How to negate a boolean, or to change the sign of a float inplace? (★★★) \n",
        "(**hint**: np.logical_not, np.negative)"
      ]
    },
    {
      "cell_type": "code",
      "execution_count": null,
      "metadata": {
        "id": "Ld3jHs9fmvxc",
        "colab": {
          "base_uri": "https://localhost:8080/"
        },
        "outputId": "494db9b0-f71a-4d59-9041-2064d77de3f2"
      },
      "outputs": [
        {
          "output_type": "execute_result",
          "data": {
            "text/plain": [
              "array([-0.63009458,  0.17097218,  0.03800818,  0.70649006, -0.83154816,\n",
              "        0.19165158, -0.29360317,  0.79066343,  0.51714892,  0.23877485,\n",
              "        0.03439548,  0.22974089, -0.34471088, -0.54067713, -0.85292206,\n",
              "       -0.70421546,  0.34846873, -0.70845502,  0.86430273, -0.6394906 ,\n",
              "        0.3318544 ,  0.03663753, -0.56313021, -0.8124518 , -0.29824587,\n",
              "        0.83063153, -0.10179542,  0.0145182 , -0.08809465, -0.30984092,\n",
              "       -0.11993465,  0.21886018,  0.90924588,  0.82028046, -0.4033742 ,\n",
              "        0.96267156, -0.22891965,  0.36094105, -0.08010114, -0.85759911,\n",
              "        0.4454934 , -0.98139435,  0.03501693, -0.72983362, -0.07656177,\n",
              "       -0.32669872,  0.659815  , -0.10511919, -0.78922706,  0.69485227,\n",
              "       -0.86270124,  0.58008084, -0.7414343 , -0.5819287 , -0.27225846,\n",
              "        0.38837426,  0.5229158 , -0.66492126,  0.18250061, -0.48234105,\n",
              "       -0.90685396, -0.19984141, -0.9648945 , -0.02905698, -0.31460653,\n",
              "        0.81903303, -0.4921596 , -0.31144925,  0.21021671,  0.15033837,\n",
              "       -0.74209468, -0.36575878,  0.43241606, -0.62293358, -0.88095106,\n",
              "        0.67018362, -0.85566065,  0.62423745,  0.80818511,  0.42519929,\n",
              "       -0.98751989, -0.80819291, -0.01662021,  0.69690983,  0.28489924,\n",
              "       -0.04339972, -0.80668157,  0.94141688,  0.73525352,  0.52818171,\n",
              "       -0.71077216,  0.48922034, -0.17084732, -0.52621933,  0.11825224,\n",
              "        0.54190382, -0.11818322, -0.28272371,  0.29020937,  0.0419999 ])"
            ]
          },
          "metadata": {},
          "execution_count": 72
        }
      ],
      "source": [
        "\n",
        "k = np.random.randint(0,2,100)\n",
        "np.logical_not(k, out=k)\n",
        "\n",
        "k = np.random.uniform(-1.0,1.0,100)\n",
        "np.negative(k, out=k)"
      ]
    },
    {
      "cell_type": "markdown",
      "metadata": {
        "id": "pRXwvtGvmvxc"
      },
      "source": [
        "#### 78. Consider 2 sets of points P0,P1 describing lines (2d) and a point p, how to compute distance from p to each line i  (P0\\[i\\],P1\\[i\\])? (★★★)"
      ]
    },
    {
      "cell_type": "code",
      "execution_count": null,
      "metadata": {
        "id": "NvTDUzM8mvxc",
        "colab": {
          "base_uri": "https://localhost:8080/"
        },
        "outputId": "09823049-c442-403d-f52d-f010d34d9c89"
      },
      "outputs": [
        {
          "output_type": "stream",
          "name": "stdout",
          "text": [
            "[ 2.3996661   4.88701725  8.79916303  1.08366768  8.75411621 14.12633739\n",
            "  6.56569461 12.07870629  3.58468735  4.27499056]\n"
          ]
        }
      ],
      "source": [
        "def distance(P0, P1, p):\n",
        "    T = P1 - P0\n",
        "    L = (T**2).sum(axis=1)\n",
        "    U = -((P0[:,0]-p[...,0])*T[:,0] + (P0[:,1]-p[...,1])*T[:,1]) / L\n",
        "    U = U.reshape(len(U),1)\n",
        "    D = P0 + U*T - p\n",
        "    return np.sqrt((D**2).sum(axis=1))\n",
        "\n",
        "P0 = np.random.uniform(-10,10,(10,2))\n",
        "P1 = np.random.uniform(-10,10,(10,2))\n",
        "p  = np.random.uniform(-10,10,( 1,2))\n",
        "print(distance(P0, P1, p))"
      ]
    },
    {
      "cell_type": "markdown",
      "metadata": {
        "id": "zn1-oT7Dmvxc"
      },
      "source": [
        "#### 79. Consider 2 sets of points P0,P1 describing lines (2d) and a set of points P, how to compute distance from each point j (P\\[j\\]) to each line i (P0\\[i\\],P1\\[i\\])? (★★★)"
      ]
    },
    {
      "cell_type": "code",
      "execution_count": null,
      "metadata": {
        "id": "UhHdvUy8mvxc",
        "colab": {
          "base_uri": "https://localhost:8080/"
        },
        "outputId": "2ae2d419-6378-436f-c875-bd0e8143129a"
      },
      "outputs": [
        {
          "output_type": "stream",
          "name": "stdout",
          "text": [
            "[[7.86511231e+00 7.76177070e-01 1.05686864e+01 7.38987481e+00\n",
            "  1.70462381e+01 1.29407092e+01 1.30859970e+01 2.79626710e+00\n",
            "  3.81522748e+00 1.05899239e+01]\n",
            " [4.47561360e+00 1.70263117e+01 4.12598672e+00 4.91950040e+00\n",
            "  1.95950262e+00 3.27063568e+00 1.88691082e+01 1.92177870e+01\n",
            "  1.24410125e+01 1.56300060e+00]\n",
            " [2.21504102e+00 1.02395748e+01 3.20215622e+00 7.89363682e+00\n",
            "  9.36557795e+00 4.22158667e+00 1.81193701e+01 1.22239046e+01\n",
            "  4.95617525e+00 5.06913191e+00]\n",
            " [8.70693333e+00 1.42689573e+00 1.19165987e+01 6.67405618e+00\n",
            "  1.84937215e+01 1.47481311e+01 1.14010051e+01 6.43293856e-01\n",
            "  5.64287358e+00 1.13955131e+01]\n",
            " [4.80646660e+00 7.40309960e+00 6.10609993e+00 8.87766431e+00\n",
            "  1.23135346e+01 7.25668765e+00 1.75839445e+01 9.31893045e+00\n",
            "  1.92067603e+00 7.63344357e+00]\n",
            " [4.23378227e+00 9.73601767e+00 1.63726299e+00 6.64842224e-01\n",
            "  4.91977631e+00 1.51566195e+00 1.05359830e+01 1.23177082e+01\n",
            "  7.54452404e+00 1.47402884e+00]\n",
            " [6.69595777e+00 1.41011605e+01 4.92357270e+00 2.50438211e-01\n",
            "  1.48052735e+00 2.43853813e+00 1.30137946e+01 1.66536511e+01\n",
            "  1.15252885e+01 3.87470615e+00]\n",
            " [1.40947700e+00 9.93362122e+00 2.67435570e+00 6.62817453e+00\n",
            "  8.90311795e+00 4.03935599e+00 1.68855239e+01 1.20062919e+01\n",
            "  5.11990799e+00 4.24658293e+00]\n",
            " [4.67187506e+00 1.46600146e+01 3.53115055e+00 2.75961919e+00\n",
            "  2.72273818e+00 1.84612889e+00 1.58665274e+01 1.70023864e+01\n",
            "  1.09760668e+01 1.81243773e+00]\n",
            " [2.89701863e+00 1.50929951e+01 2.29216570e+00 5.35294509e+00\n",
            "  3.83380386e+00 1.29008955e+00 1.83007263e+01 1.72543414e+01\n",
            "  1.04570026e+01 5.31839892e-03]]\n"
          ]
        }
      ],
      "source": [
        "P0 = np.random.uniform(-10, 10, (10,2))\n",
        "P1 = np.random.uniform(-10,10,(10,2))\n",
        "p = np.random.uniform(-10, 10, (10,2))\n",
        "print(np.array([distance(P0,P1,p_i) for p_i in p]))"
      ]
    },
    {
      "cell_type": "markdown",
      "metadata": {
        "id": "Fho1i3aNmvxc"
      },
      "source": [
        "#### 80. Consider an arbitrary array, write a function that extract a subpart with a fixed shape and centered on a given element (pad with a `fill` value when necessary) (★★★) \n",
        "(**hint**: minimum, maximum)"
      ]
    },
    {
      "cell_type": "code",
      "execution_count": null,
      "metadata": {
        "id": "3z425J3Emvxd",
        "colab": {
          "base_uri": "https://localhost:8080/"
        },
        "outputId": "37cb5177-9b0a-423e-80dd-d7ea4a0d70ef"
      },
      "outputs": [
        {
          "output_type": "stream",
          "name": "stdout",
          "text": [
            "[[2 9 7 8 1 6 4 6 0 8]\n",
            " [4 2 1 2 6 1 2 8 3 2]\n",
            " [9 0 9 1 9 3 5 6 4 6]\n",
            " [2 6 9 9 0 4 7 5 6 8]\n",
            " [4 6 2 4 0 4 0 0 8 1]\n",
            " [3 2 5 3 3 9 2 9 2 1]\n",
            " [1 9 7 3 9 3 7 3 5 9]\n",
            " [8 7 3 3 0 3 9 8 2 5]\n",
            " [6 0 2 1 6 9 1 7 0 5]\n",
            " [9 9 0 6 9 3 6 8 0 9]]\n",
            "[[0 0 0 0 0]\n",
            " [0 2 9 7 8]\n",
            " [0 4 2 1 2]\n",
            " [0 9 0 9 1]\n",
            " [0 2 6 9 9]]\n"
          ]
        },
        {
          "output_type": "stream",
          "name": "stderr",
          "text": [
            "/usr/local/lib/python3.7/dist-packages/ipykernel_launcher.py:23: FutureWarning: Using a non-tuple sequence for multidimensional indexing is deprecated; use `arr[tuple(seq)]` instead of `arr[seq]`. In the future this will be interpreted as an array index, `arr[np.array(seq)]`, which will result either in an error or a different result.\n"
          ]
        }
      ],
      "source": [
        "Z = np.random.randint(0,10,(10,10))\n",
        "shape = (5,5)\n",
        "fill  = 0\n",
        "position = (1,1)\n",
        "\n",
        "R = np.ones(shape, dtype=Z.dtype)*fill\n",
        "P  = np.array(list(position)).astype(int)\n",
        "Rs = np.array(list(R.shape)).astype(int)\n",
        "Zs = np.array(list(Z.shape)).astype(int)\n",
        "\n",
        "R_start = np.zeros((len(shape),)).astype(int)\n",
        "R_stop  = np.array(list(shape)).astype(int)\n",
        "Z_start = (P-Rs//2)\n",
        "Z_stop  = (P+Rs//2)+Rs%2\n",
        "\n",
        "R_start = (R_start - np.minimum(Z_start,0)).tolist()\n",
        "Z_start = (np.maximum(Z_start,0)).tolist()\n",
        "R_stop = np.maximum(R_start, (R_stop - np.maximum(Z_stop-Zs,0))).tolist()\n",
        "Z_stop = (np.minimum(Z_stop,Zs)).tolist()\n",
        "\n",
        "r = [slice(start,stop) for start,stop in zip(R_start,R_stop)]\n",
        "z = [slice(start,stop) for start,stop in zip(Z_start,Z_stop)]\n",
        "R[r] = Z[z]\n",
        "print(Z)\n",
        "print(R)"
      ]
    },
    {
      "cell_type": "markdown",
      "metadata": {
        "id": "IEPsCTKumvxd"
      },
      "source": [
        "#### 81. Consider an array Z = \\[1,2,3,4,5,6,7,8,9,10,11,12,13,14\\], how to generate an array R = \\[\\[1,2,3,4\\], \\[2,3,4,5\\], \\[3,4,5,6\\], ..., \\[11,12,13,14\\]\\]? (★★★) \n",
        "(**hint**: stride\\_tricks.as\\_strided)"
      ]
    },
    {
      "cell_type": "code",
      "execution_count": null,
      "metadata": {
        "id": "FwX1mK4Hmvxd",
        "colab": {
          "base_uri": "https://localhost:8080/"
        },
        "outputId": "7b6ca6bb-f0c2-4cdb-c9ce-c5135c247b8f"
      },
      "outputs": [
        {
          "output_type": "stream",
          "name": "stdout",
          "text": [
            "[[ 1  2  3  4]\n",
            " [ 2  3  4  5]\n",
            " [ 3  4  5  6]\n",
            " [ 4  5  6  7]\n",
            " [ 5  6  7  8]\n",
            " [ 6  7  8  9]\n",
            " [ 7  8  9 10]\n",
            " [ 8  9 10 11]\n",
            " [ 9 10 11 12]\n",
            " [10 11 12 13]\n",
            " [11 12 13 14]]\n"
          ]
        }
      ],
      "source": [
        "Z = np.arange(1,15,dtype=np.uint32)\n",
        "R = stride_tricks.as_strided(Z,(11,4),(4,4))\n",
        "print(R)"
      ]
    },
    {
      "cell_type": "markdown",
      "metadata": {
        "id": "LjP4q_klmvxd"
      },
      "source": [
        "#### 82. Compute a matrix rank (★★★) \n",
        "(**hint**: np.linalg.svd) (suggestion: np.linalg.svd)"
      ]
    },
    {
      "cell_type": "code",
      "execution_count": null,
      "metadata": {
        "id": "VwvaeSYUmvxd",
        "colab": {
          "base_uri": "https://localhost:8080/"
        },
        "outputId": "4fad6e2e-2354-4d1b-cead-b1affa0f0141"
      },
      "outputs": [
        {
          "output_type": "stream",
          "name": "stdout",
          "text": [
            "10\n"
          ]
        }
      ],
      "source": [
        "Z = np.random.uniform(0,1,(10,10))\n",
        "U, S, V = np.linalg.svd(Z) # Singular Value Decomposition\n",
        "rank = np.sum(S > 1e-10)\n",
        "print(rank)"
      ]
    },
    {
      "cell_type": "markdown",
      "metadata": {
        "id": "3FlotYznmvxd"
      },
      "source": [
        "#### 83. How to find the most frequent value in an array? \n",
        "(**hint**: np.bincount, argmax)"
      ]
    },
    {
      "cell_type": "code",
      "execution_count": null,
      "metadata": {
        "id": "CI_Do7Sfmvxd",
        "colab": {
          "base_uri": "https://localhost:8080/"
        },
        "outputId": "846a4880-d581-4678-ff3a-9dbd809c3c12"
      },
      "outputs": [
        {
          "output_type": "stream",
          "name": "stdout",
          "text": [
            "8\n"
          ]
        }
      ],
      "source": [
        "Z = np.random.randint(0,10,50)\n",
        "print(np.bincount(Z).argmax())"
      ]
    },
    {
      "cell_type": "markdown",
      "metadata": {
        "id": "7kpJqtb0mvxd"
      },
      "source": [
        "#### 84. Extract all the contiguous 3x3 blocks from a random 10x10 matrix (★★★) \n",
        "(**hint**: stride\\_tricks.as\\_strided)"
      ]
    },
    {
      "cell_type": "code",
      "execution_count": null,
      "metadata": {
        "id": "JpV2vv3Bmvxd",
        "colab": {
          "base_uri": "https://localhost:8080/"
        },
        "outputId": "f4cc3834-fe2d-473a-ca98-b8c2fc181bc3"
      },
      "outputs": [
        {
          "output_type": "stream",
          "name": "stdout",
          "text": [
            "[[[[1 0 0]\n",
            "   [2 3 1]\n",
            "   [3 2 1]]\n",
            "\n",
            "  [[0 0 2]\n",
            "   [3 1 0]\n",
            "   [2 1 3]]\n",
            "\n",
            "  [[0 2 1]\n",
            "   [1 0 3]\n",
            "   [1 3 2]]\n",
            "\n",
            "  [[2 1 4]\n",
            "   [0 3 3]\n",
            "   [3 2 0]]\n",
            "\n",
            "  [[1 4 4]\n",
            "   [3 3 3]\n",
            "   [2 0 2]]\n",
            "\n",
            "  [[4 4 1]\n",
            "   [3 3 3]\n",
            "   [0 2 1]]\n",
            "\n",
            "  [[4 1 2]\n",
            "   [3 3 2]\n",
            "   [2 1 0]]\n",
            "\n",
            "  [[1 2 0]\n",
            "   [3 2 4]\n",
            "   [1 0 2]]]\n",
            "\n",
            "\n",
            " [[[2 3 1]\n",
            "   [3 2 1]\n",
            "   [2 2 2]]\n",
            "\n",
            "  [[3 1 0]\n",
            "   [2 1 3]\n",
            "   [2 2 1]]\n",
            "\n",
            "  [[1 0 3]\n",
            "   [1 3 2]\n",
            "   [2 1 4]]\n",
            "\n",
            "  [[0 3 3]\n",
            "   [3 2 0]\n",
            "   [1 4 2]]\n",
            "\n",
            "  [[3 3 3]\n",
            "   [2 0 2]\n",
            "   [4 2 0]]\n",
            "\n",
            "  [[3 3 3]\n",
            "   [0 2 1]\n",
            "   [2 0 4]]\n",
            "\n",
            "  [[3 3 2]\n",
            "   [2 1 0]\n",
            "   [0 4 0]]\n",
            "\n",
            "  [[3 2 4]\n",
            "   [1 0 2]\n",
            "   [4 0 1]]]\n",
            "\n",
            "\n",
            " [[[3 2 1]\n",
            "   [2 2 2]\n",
            "   [2 1 4]]\n",
            "\n",
            "  [[2 1 3]\n",
            "   [2 2 1]\n",
            "   [1 4 1]]\n",
            "\n",
            "  [[1 3 2]\n",
            "   [2 1 4]\n",
            "   [4 1 3]]\n",
            "\n",
            "  [[3 2 0]\n",
            "   [1 4 2]\n",
            "   [1 3 4]]\n",
            "\n",
            "  [[2 0 2]\n",
            "   [4 2 0]\n",
            "   [3 4 4]]\n",
            "\n",
            "  [[0 2 1]\n",
            "   [2 0 4]\n",
            "   [4 4 4]]\n",
            "\n",
            "  [[2 1 0]\n",
            "   [0 4 0]\n",
            "   [4 4 0]]\n",
            "\n",
            "  [[1 0 2]\n",
            "   [4 0 1]\n",
            "   [4 0 1]]]\n",
            "\n",
            "\n",
            " [[[2 2 2]\n",
            "   [2 1 4]\n",
            "   [0 1 1]]\n",
            "\n",
            "  [[2 2 1]\n",
            "   [1 4 1]\n",
            "   [1 1 3]]\n",
            "\n",
            "  [[2 1 4]\n",
            "   [4 1 3]\n",
            "   [1 3 1]]\n",
            "\n",
            "  [[1 4 2]\n",
            "   [1 3 4]\n",
            "   [3 1 4]]\n",
            "\n",
            "  [[4 2 0]\n",
            "   [3 4 4]\n",
            "   [1 4 1]]\n",
            "\n",
            "  [[2 0 4]\n",
            "   [4 4 4]\n",
            "   [4 1 1]]\n",
            "\n",
            "  [[0 4 0]\n",
            "   [4 4 0]\n",
            "   [1 1 2]]\n",
            "\n",
            "  [[4 0 1]\n",
            "   [4 0 1]\n",
            "   [1 2 2]]]\n",
            "\n",
            "\n",
            " [[[2 1 4]\n",
            "   [0 1 1]\n",
            "   [0 2 2]]\n",
            "\n",
            "  [[1 4 1]\n",
            "   [1 1 3]\n",
            "   [2 2 3]]\n",
            "\n",
            "  [[4 1 3]\n",
            "   [1 3 1]\n",
            "   [2 3 4]]\n",
            "\n",
            "  [[1 3 4]\n",
            "   [3 1 4]\n",
            "   [3 4 2]]\n",
            "\n",
            "  [[3 4 4]\n",
            "   [1 4 1]\n",
            "   [4 2 0]]\n",
            "\n",
            "  [[4 4 4]\n",
            "   [4 1 1]\n",
            "   [2 0 1]]\n",
            "\n",
            "  [[4 4 0]\n",
            "   [1 1 2]\n",
            "   [0 1 4]]\n",
            "\n",
            "  [[4 0 1]\n",
            "   [1 2 2]\n",
            "   [1 4 1]]]\n",
            "\n",
            "\n",
            " [[[0 1 1]\n",
            "   [0 2 2]\n",
            "   [4 4 0]]\n",
            "\n",
            "  [[1 1 3]\n",
            "   [2 2 3]\n",
            "   [4 0 4]]\n",
            "\n",
            "  [[1 3 1]\n",
            "   [2 3 4]\n",
            "   [0 4 1]]\n",
            "\n",
            "  [[3 1 4]\n",
            "   [3 4 2]\n",
            "   [4 1 3]]\n",
            "\n",
            "  [[1 4 1]\n",
            "   [4 2 0]\n",
            "   [1 3 1]]\n",
            "\n",
            "  [[4 1 1]\n",
            "   [2 0 1]\n",
            "   [3 1 4]]\n",
            "\n",
            "  [[1 1 2]\n",
            "   [0 1 4]\n",
            "   [1 4 1]]\n",
            "\n",
            "  [[1 2 2]\n",
            "   [1 4 1]\n",
            "   [4 1 4]]]\n",
            "\n",
            "\n",
            " [[[0 2 2]\n",
            "   [4 4 0]\n",
            "   [2 0 3]]\n",
            "\n",
            "  [[2 2 3]\n",
            "   [4 0 4]\n",
            "   [0 3 0]]\n",
            "\n",
            "  [[2 3 4]\n",
            "   [0 4 1]\n",
            "   [3 0 2]]\n",
            "\n",
            "  [[3 4 2]\n",
            "   [4 1 3]\n",
            "   [0 2 0]]\n",
            "\n",
            "  [[4 2 0]\n",
            "   [1 3 1]\n",
            "   [2 0 2]]\n",
            "\n",
            "  [[2 0 1]\n",
            "   [3 1 4]\n",
            "   [0 2 1]]\n",
            "\n",
            "  [[0 1 4]\n",
            "   [1 4 1]\n",
            "   [2 1 3]]\n",
            "\n",
            "  [[1 4 1]\n",
            "   [4 1 4]\n",
            "   [1 3 0]]]\n",
            "\n",
            "\n",
            " [[[4 4 0]\n",
            "   [2 0 3]\n",
            "   [3 4 2]]\n",
            "\n",
            "  [[4 0 4]\n",
            "   [0 3 0]\n",
            "   [4 2 2]]\n",
            "\n",
            "  [[0 4 1]\n",
            "   [3 0 2]\n",
            "   [2 2 2]]\n",
            "\n",
            "  [[4 1 3]\n",
            "   [0 2 0]\n",
            "   [2 2 0]]\n",
            "\n",
            "  [[1 3 1]\n",
            "   [2 0 2]\n",
            "   [2 0 2]]\n",
            "\n",
            "  [[3 1 4]\n",
            "   [0 2 1]\n",
            "   [0 2 3]]\n",
            "\n",
            "  [[1 4 1]\n",
            "   [2 1 3]\n",
            "   [2 3 2]]\n",
            "\n",
            "  [[4 1 4]\n",
            "   [1 3 0]\n",
            "   [3 2 0]]]]\n"
          ]
        }
      ],
      "source": [
        "Z = np.random.randint(0,5,(10,10))\n",
        "n = 3\n",
        "i = 1 + (Z.shape[0]-3)\n",
        "j = 1 + (Z.shape[1]-3)\n",
        "C = stride_tricks.as_strided(Z, shape=(i, j, n, n), strides=Z.strides + Z.strides)\n",
        "print(C)"
      ]
    },
    {
      "cell_type": "markdown",
      "metadata": {
        "id": "WMHn9uwjmvxd"
      },
      "source": [
        "#### 85. Create a 2D array subclass such that Z\\[i,j\\] == Z\\[j,i\\] (★★★) \n",
        "(**hint**: class method)"
      ]
    },
    {
      "cell_type": "code",
      "execution_count": null,
      "metadata": {
        "id": "5v8PBQW-mvxe",
        "colab": {
          "base_uri": "https://localhost:8080/"
        },
        "outputId": "4489a260-be02-447c-9e8f-fb48d5777f2e"
      },
      "outputs": [
        {
          "output_type": "stream",
          "name": "stdout",
          "text": [
            "[[ 4 13  3  5  8]\n",
            " [13  4  5  3  8]\n",
            " [ 3  5  8 42  6]\n",
            " [ 5  3 42  2  1]\n",
            " [ 8  8  6  1  6]]\n"
          ]
        }
      ],
      "source": [
        "class Symetric(np.ndarray):\n",
        "    def __setitem__(self, index, value):\n",
        "        i,j = index\n",
        "        super(Symetric, self).__setitem__((i,j), value)\n",
        "        super(Symetric, self).__setitem__((j,i), value)\n",
        "\n",
        "def symetric(Z):\n",
        "    return np.asarray(Z + Z.T - np.diag(Z.diagonal())).view(Symetric)\n",
        "\n",
        "S = symetric(np.random.randint(0,10,(5,5)))\n",
        "S[2,3] = 42\n",
        "print(S)"
      ]
    },
    {
      "cell_type": "markdown",
      "metadata": {
        "id": "TJlOgM0Vmvxe"
      },
      "source": [
        "#### 86. Consider a set of p matrices wich shape (n,n) and a set of p vectors with shape (n,1). How to compute the sum of of the p matrix products at once? (result has shape (n,1)) (★★★) \n",
        "(**hint**: np.tensordot)"
      ]
    },
    {
      "cell_type": "code",
      "execution_count": null,
      "metadata": {
        "id": "KNfx_2slmvxe",
        "colab": {
          "base_uri": "https://localhost:8080/"
        },
        "outputId": "c5721280-0533-4093-ff6d-8fd72df2a8c7"
      },
      "outputs": [
        {
          "output_type": "stream",
          "name": "stdout",
          "text": [
            "[[200.]\n",
            " [200.]\n",
            " [200.]\n",
            " [200.]\n",
            " [200.]\n",
            " [200.]\n",
            " [200.]\n",
            " [200.]\n",
            " [200.]\n",
            " [200.]\n",
            " [200.]\n",
            " [200.]\n",
            " [200.]\n",
            " [200.]\n",
            " [200.]\n",
            " [200.]\n",
            " [200.]\n",
            " [200.]\n",
            " [200.]\n",
            " [200.]]\n"
          ]
        }
      ],
      "source": [
        "p, n = 10, 20\n",
        "M = np.ones((p,n,n))\n",
        "V = np.ones((p,n,1))\n",
        "S = np.tensordot(M, V, axes=[[0, 2], [0, 1]])\n",
        "print(S)"
      ]
    },
    {
      "cell_type": "markdown",
      "metadata": {
        "id": "H5NRbuNomvxe"
      },
      "source": [
        "#### 87. Consider a 16x16 array, how to get the block-sum (block size is 4x4)? (★★★) \n",
        "(**hint**: np.add.reduceat)"
      ]
    },
    {
      "cell_type": "code",
      "execution_count": null,
      "metadata": {
        "id": "800nUQJBmvxe",
        "colab": {
          "base_uri": "https://localhost:8080/"
        },
        "outputId": "a0651128-be24-41e3-d2dc-eb8c974576b8"
      },
      "outputs": [
        {
          "output_type": "execute_result",
          "data": {
            "text/plain": [
              "array([[16., 16., 16., 16.],\n",
              "       [16., 16., 16., 16.],\n",
              "       [16., 16., 16., 16.],\n",
              "       [16., 16., 16., 16.]])"
            ]
          },
          "metadata": {},
          "execution_count": 83
        }
      ],
      "source": [
        "Z = np.ones((16,16))\n",
        "k = 4\n",
        "S = np.add.reduceat(np.add.reduceat(Z, np.arange(0, Z.shape[0], k), axis=0),\n",
        "                                       np.arange(0, Z.shape[1], k), axis=1)\n",
        "S"
      ]
    },
    {
      "cell_type": "markdown",
      "metadata": {
        "id": "R8uqBtO_mvxe"
      },
      "source": [
        "#### 88. How to implement the Game of Life using numpy arrays? (★★★)"
      ]
    },
    {
      "cell_type": "code",
      "execution_count": null,
      "metadata": {
        "id": "87mBlp0Xmvxe",
        "colab": {
          "base_uri": "https://localhost:8080/"
        },
        "outputId": "56c4bdbe-e7ba-4944-b112-0140e4719bb2"
      },
      "outputs": [
        {
          "output_type": "stream",
          "name": "stdout",
          "text": [
            "[[0 0 0 ... 0 0 0]\n",
            " [0 0 0 ... 0 0 0]\n",
            " [0 0 0 ... 0 0 0]\n",
            " ...\n",
            " [0 1 0 ... 0 0 0]\n",
            " [0 0 1 ... 0 0 0]\n",
            " [0 0 0 ... 0 0 0]]\n"
          ]
        }
      ],
      "source": [
        "def iterate(Z):\n",
        "    # Count neighbours\n",
        "    N = (Z[0:-2,0:-2] + Z[0:-2,1:-1] + Z[0:-2,2:] +\n",
        "         Z[1:-1,0:-2]                + Z[1:-1,2:] +\n",
        "         Z[2:  ,0:-2] + Z[2:  ,1:-1] + Z[2:  ,2:])\n",
        "\n",
        "    # Apply rules\n",
        "    birth = (N==3) & (Z[1:-1,1:-1]==0)\n",
        "    survive = ((N==2) | (N==3)) & (Z[1:-1,1:-1]==1)\n",
        "    Z[...] = 0\n",
        "    Z[1:-1,1:-1][birth | survive] = 1\n",
        "    return Z\n",
        "\n",
        "Z = np.random.randint(0,2,(50,50))\n",
        "for i in range(100): Z = iterate(Z)\n",
        "print(Z)"
      ]
    },
    {
      "cell_type": "markdown",
      "metadata": {
        "id": "3Ld5-ojlmvxe"
      },
      "source": [
        "#### 89. How to get the n largest values of an array (★★★) \n",
        "(**hint**: np.argsort | np.argpartition)"
      ]
    },
    {
      "cell_type": "code",
      "execution_count": null,
      "metadata": {
        "id": "4qarh9uXmvxe",
        "colab": {
          "base_uri": "https://localhost:8080/"
        },
        "outputId": "a491d56c-fb31-43fb-c5ac-ed3c7555c4a4"
      },
      "outputs": [
        {
          "output_type": "stream",
          "name": "stdout",
          "text": [
            "[9997 9999 9998 9996 9995]\n"
          ]
        }
      ],
      "source": [
        "Z = np.arange(10000)\n",
        "np.random.shuffle(Z)\n",
        "n = 5\n",
        "print (Z[np.argpartition(-Z,n)[:n]])"
      ]
    },
    {
      "cell_type": "markdown",
      "metadata": {
        "id": "75jCPfg9mvxe"
      },
      "source": [
        "#### 90. Given an arbitrary number of vectors, build the cartesian product (every combinations of every item) (★★★) \n",
        "(**hint**: np.indices)"
      ]
    },
    {
      "cell_type": "code",
      "execution_count": null,
      "metadata": {
        "scrolled": true,
        "id": "sA8Ug0gFmvxe",
        "colab": {
          "base_uri": "https://localhost:8080/"
        },
        "outputId": "f686ddd4-8542-4e82-d8af-f8de2187b82f"
      },
      "outputs": [
        {
          "output_type": "stream",
          "name": "stdout",
          "text": [
            "[[1 4 6]\n",
            " [1 4 7]\n",
            " [1 5 6]\n",
            " [1 5 7]\n",
            " [2 4 6]\n",
            " [2 4 7]\n",
            " [2 5 6]\n",
            " [2 5 7]\n",
            " [3 4 6]\n",
            " [3 4 7]\n",
            " [3 5 6]\n",
            " [3 5 7]]\n"
          ]
        }
      ],
      "source": [
        "def cartesian(arrays):\n",
        "    arrays = [np.asarray(a) for a in arrays]\n",
        "    shape = (len(x) for x in arrays)\n",
        "\n",
        "    ix = np.indices(shape, dtype=int)\n",
        "    ix = ix.reshape(len(arrays), -1).T\n",
        "\n",
        "    for n, arr in enumerate(arrays):\n",
        "        ix[:, n] = arrays[n][ix[:, n]]\n",
        "\n",
        "    return ix\n",
        "\n",
        "print (cartesian(([1, 2, 3], [4, 5], [6, 7])))"
      ]
    },
    {
      "cell_type": "markdown",
      "metadata": {
        "id": "Y1pzxWUlmvxe"
      },
      "source": [
        "#### 91. How to create a record array from a regular array? (★★★) \n",
        "(**hint**: np.core.records.fromarrays)"
      ]
    },
    {
      "cell_type": "code",
      "execution_count": null,
      "metadata": {
        "id": "bZXsxNPumvxe",
        "colab": {
          "base_uri": "https://localhost:8080/"
        },
        "outputId": "14484e2c-ea14-4f87-fe74-db33559eccd5"
      },
      "outputs": [
        {
          "output_type": "execute_result",
          "data": {
            "text/plain": [
              "rec.array([(b'Hello', 2.5, 3), (b'World', 3.6, 2)],\n",
              "          dtype=[('col1', 'S8'), ('col2', '<f8'), ('col3', '<i8')])"
            ]
          },
          "metadata": {},
          "execution_count": 87
        }
      ],
      "source": [
        "Z = np.array([(\"Hello\", 2.5, 3),\n",
        "              (\"World\", 3.6, 2)])\n",
        "R = np.core.records.fromarrays(Z.T, \n",
        "                               names='col1, col2, col3',\n",
        "                               formats = 'S8, f8, i8')\n",
        "R"
      ]
    },
    {
      "cell_type": "markdown",
      "metadata": {
        "id": "NSobTrY8mvxe"
      },
      "source": [
        "#### 92. Consider a large vector Z, compute Z to the power of 3 using 3 different methods (★★★) \n",
        "(**hint**: np.power, \\*, np.einsum)"
      ]
    },
    {
      "cell_type": "code",
      "execution_count": null,
      "metadata": {
        "id": "nmDQ-GoXmvxf",
        "colab": {
          "base_uri": "https://localhost:8080/",
          "height": 339
        },
        "outputId": "46657b08-ce27-46fc-c47c-5ad1278a86f1"
      },
      "outputs": [
        {
          "output_type": "error",
          "ename": "TypeError",
          "evalue": "ignored",
          "traceback": [
            "\u001b[0;31m---------------------------------------------------------------------------\u001b[0m",
            "\u001b[0;31mTypeError\u001b[0m                                 Traceback (most recent call last)",
            "\u001b[0;32m<ipython-input-90-11a4c8590725>\u001b[0m in \u001b[0;36m<module>\u001b[0;34m()\u001b[0m\n\u001b[1;32m      1\u001b[0m \u001b[0;32mimport\u001b[0m \u001b[0mrandom\u001b[0m\u001b[0;34m\u001b[0m\u001b[0;34m\u001b[0m\u001b[0m\n\u001b[0;32m----> 2\u001b[0;31m \u001b[0mx\u001b[0m \u001b[0;34m=\u001b[0m \u001b[0mnp\u001b[0m\u001b[0;34m.\u001b[0m\u001b[0mrandom\u001b[0m\u001b[0;34m.\u001b[0m\u001b[0mrand\u001b[0m\u001b[0;34m(\u001b[0m\u001b[0;36m5e7\u001b[0m\u001b[0;34m)\u001b[0m\u001b[0;34m\u001b[0m\u001b[0;34m\u001b[0m\u001b[0m\n\u001b[0m\u001b[1;32m      3\u001b[0m \u001b[0;34m\u001b[0m\u001b[0m\n\u001b[1;32m      4\u001b[0m \u001b[0mget_ipython\u001b[0m\u001b[0;34m(\u001b[0m\u001b[0;34m)\u001b[0m\u001b[0;34m.\u001b[0m\u001b[0mmagic\u001b[0m\u001b[0;34m(\u001b[0m\u001b[0;34m'timeit np.power(x,3)'\u001b[0m\u001b[0;34m)\u001b[0m\u001b[0;34m\u001b[0m\u001b[0;34m\u001b[0m\u001b[0m\n\u001b[1;32m      5\u001b[0m \u001b[0mget_ipython\u001b[0m\u001b[0;34m(\u001b[0m\u001b[0;34m)\u001b[0m\u001b[0;34m.\u001b[0m\u001b[0mmagic\u001b[0m\u001b[0;34m(\u001b[0m\u001b[0;34m'timeit x*x*x'\u001b[0m\u001b[0;34m)\u001b[0m\u001b[0;34m\u001b[0m\u001b[0;34m\u001b[0m\u001b[0m\n",
            "\u001b[0;32mmtrand.pyx\u001b[0m in \u001b[0;36mnumpy.random.mtrand.RandomState.rand\u001b[0;34m()\u001b[0m\n",
            "\u001b[0;32mmtrand.pyx\u001b[0m in \u001b[0;36mnumpy.random.mtrand.RandomState.random_sample\u001b[0;34m()\u001b[0m\n",
            "\u001b[0;32m_common.pyx\u001b[0m in \u001b[0;36mnumpy.random._common.double_fill\u001b[0;34m()\u001b[0m\n",
            "\u001b[0;31mTypeError\u001b[0m: 'float' object cannot be interpreted as an integer"
          ]
        }
      ],
      "source": [
        "x = np.random.rand(5e7)\n",
        "\n",
        "%timeit np.power(x,3)\n",
        "%timeit x*x*x\n",
        "%timeit np.einsum('i,i,i->i',x,x,x)"
      ]
    },
    {
      "cell_type": "markdown",
      "metadata": {
        "id": "oI8ceUm4mvxf"
      },
      "source": [
        "#### 93. Consider two arrays A and B of shape (8,3) and (2,2). How to find rows of A that contain elements of each row of B regardless of the order of the elements in B? (★★★) \n",
        "(**hint**: np.where)"
      ]
    },
    {
      "cell_type": "code",
      "execution_count": null,
      "metadata": {
        "id": "NCG0y-Vzmvxf",
        "colab": {
          "base_uri": "https://localhost:8080/"
        },
        "outputId": "9f6a91f2-0114-4241-94bf-478a0a2375d9"
      },
      "outputs": [
        {
          "output_type": "stream",
          "name": "stdout",
          "text": [
            "[0 3 6]\n"
          ]
        }
      ],
      "source": [
        "A = np.random.randint(0,5,(8,3))\n",
        "B = np.random.randint(0,5,(2,2))\n",
        "\n",
        "C = (A[..., np.newaxis, np.newaxis] == B)\n",
        "rows = np.where(C.any((3,1)).all(1))[0]\n",
        "print(rows)"
      ]
    },
    {
      "cell_type": "markdown",
      "metadata": {
        "id": "6J8tdzv4mvxf"
      },
      "source": [
        "#### 94. Considering a 10x3 matrix, extract rows with unequal values (e.g. \\[2,2,3\\]) (★★★)"
      ]
    },
    {
      "cell_type": "code",
      "execution_count": null,
      "metadata": {
        "id": "e3CMGZDgmvxf",
        "colab": {
          "base_uri": "https://localhost:8080/"
        },
        "outputId": "aeba8593-824d-40df-c498-d75a38f65c18"
      },
      "outputs": [
        {
          "output_type": "stream",
          "name": "stdout",
          "text": [
            "[[3 0 4]\n",
            " [2 1 0]\n",
            " [1 3 4]\n",
            " [2 2 4]\n",
            " [4 4 4]\n",
            " [1 1 3]\n",
            " [4 1 3]\n",
            " [1 2 1]\n",
            " [3 1 2]\n",
            " [2 2 0]]\n",
            "[[-0.29051837 -0.2411532   0.46404419  0.2726836   0.0966451   0.49911088\n",
            "   0.21823301 -0.05769331  0.404968    0.30715739]\n",
            " [-0.29981727  0.34861542  0.0316026   0.32631209 -0.60057087 -0.00221419\n",
            "  -0.10049429 -0.51023213  0.03191384 -0.22125527]\n",
            " [-0.23938878 -0.02202049 -0.28632211  0.44932301  0.31136138  0.17376725\n",
            "  -0.57601983  0.28591099  0.14064911 -0.31284103]\n",
            " [-0.42312581 -0.2093203   0.07094748 -0.07328635 -0.3416639  -0.45878789\n",
            "   0.20270215  0.52657046  0.29398071 -0.1863741 ]\n",
            " [-0.31895988  0.17161073 -0.57550098  0.23599151  0.05289638 -0.12223032\n",
            "   0.23904754  0.0319726  -0.09069325  0.63070711]\n",
            " [-0.27311332 -0.16324604 -0.41586275 -0.39606557 -0.14211366  0.5958752\n",
            "   0.2635739   0.01189211 -0.14847609 -0.31941943]\n",
            " [-0.31806818 -0.28842966  0.18715461  0.27280561  0.35410966 -0.23479718\n",
            "   0.28182709 -0.21538833 -0.57311431 -0.26718758]\n",
            " [-0.28029953 -0.52791026 -0.03955054 -0.34580217 -0.07966182 -0.15257943\n",
            "  -0.5356008  -0.34667409 -0.01182749  0.29117353]\n",
            " [-0.31271163  0.39779312 -0.00767348 -0.37655858  0.51115318 -0.18689119\n",
            "   0.08823716 -0.3043379   0.42060174 -0.16910874]\n",
            " [-0.36812524  0.44698181  0.39478754 -0.2520787  -0.01681315  0.16387807\n",
            "  -0.2620931   0.34198366 -0.43931704  0.19876219]]\n",
            "[[3 0 4]\n",
            " [2 1 0]\n",
            " [1 3 4]\n",
            " [2 2 4]\n",
            " [1 1 3]\n",
            " [4 1 3]\n",
            " [1 2 1]\n",
            " [3 1 2]\n",
            " [2 2 0]]\n"
          ]
        }
      ],
      "source": [
        "Z = np.random.randint(0,5,(10,3))\n",
        "print(Z)\n",
        "# solution for arrays of all dtypes (including string arrays and record arrays)\n",
        "E = np.all(Z[:,1:] == Z[:,:-1], axis=1)\n",
        "G = Z[~E]\n",
        "print(U)\n",
        "# soluiton for numerical arrays only, will work for any number of columns in Z\n",
        "G = Z[Z.max(axis=1) != Z.min(axis=1),:]\n",
        "print(G)"
      ]
    },
    {
      "cell_type": "markdown",
      "metadata": {
        "id": "0lDSOACCmvxf"
      },
      "source": [
        "#### 95. Convert a vector of ints into a matrix binary representation (★★★) \n",
        "(**hint**: np.unpackbits)"
      ]
    },
    {
      "cell_type": "code",
      "execution_count": null,
      "metadata": {
        "id": "Aeia2zchmvxf",
        "colab": {
          "base_uri": "https://localhost:8080/"
        },
        "outputId": "feebf3dc-09c2-4925-ec66-c087c6e19dc8"
      },
      "outputs": [
        {
          "output_type": "stream",
          "name": "stdout",
          "text": [
            "[[0 0 0 0 0 0 0 0]\n",
            " [0 0 0 0 0 0 0 1]\n",
            " [0 0 0 0 0 0 1 0]\n",
            " [0 0 0 0 0 0 1 1]\n",
            " [0 0 0 0 1 1 1 1]\n",
            " [0 0 0 1 0 0 0 0]\n",
            " [0 0 1 0 0 0 0 0]\n",
            " [0 1 0 0 0 0 0 0]\n",
            " [1 0 0 0 0 0 0 0]]\n",
            "[[0 0 0 0 0 0 0 0]\n",
            " [0 0 0 0 0 0 0 1]\n",
            " [0 0 0 0 0 0 1 0]\n",
            " [0 0 0 0 0 0 1 1]\n",
            " [0 0 0 0 1 1 1 1]\n",
            " [0 0 0 1 0 0 0 0]\n",
            " [0 0 1 0 0 0 0 0]\n",
            " [0 1 0 0 0 0 0 0]\n",
            " [1 0 0 0 0 0 0 0]]\n"
          ]
        }
      ],
      "source": [
        "I = np.array([0, 1, 2, 3, 15, 16, 32, 64, 128])\n",
        "B = ((I.reshape(-1,1) & (2**np.arange(8))) != 0).astype(int)\n",
        "print(B[:,::-1])\n",
        "\n",
        "# Author: Daniel T. McDonald\n",
        "\n",
        "I = np.array([0, 1, 2, 3, 15, 16, 32, 64, 128], dtype=np.uint8)\n",
        "print(np.unpackbits(I[:, np.newaxis], axis=1))"
      ]
    },
    {
      "cell_type": "markdown",
      "metadata": {
        "id": "3LjcVKY_mvxf"
      },
      "source": [
        "#### 96. Given a two dimensional array, how to extract unique rows? (★★★) \n",
        "(**hint**: np.ascontiguousarray)"
      ]
    },
    {
      "cell_type": "code",
      "execution_count": null,
      "metadata": {
        "id": "vnyLe_clmvxf",
        "colab": {
          "base_uri": "https://localhost:8080/"
        },
        "outputId": "5448ffb3-c842-4408-b91e-373729b50b90"
      },
      "outputs": [
        {
          "output_type": "stream",
          "name": "stdout",
          "text": [
            "[[0 0 1]\n",
            " [0 1 1]\n",
            " [1 0 1]]\n"
          ]
        }
      ],
      "source": [
        "K = np.random.randint(0,2,(6,3))\n",
        "T = np.ascontiguousarray(K).view(np.dtype((np.void, K.dtype.itemsize * K.shape[1])))\n",
        "_, idx = np.unique(T, return_index=True)\n",
        "uZ = K[idx]\n",
        "print(uZ)"
      ]
    },
    {
      "cell_type": "markdown",
      "metadata": {
        "id": "OodJUnBamvxf"
      },
      "source": [
        "#### 97. Considering 2 vectors A & B, write the einsum equivalent of inner, outer, sum, and mul function (★★★) \n",
        "(**hint**: np.einsum)"
      ]
    },
    {
      "cell_type": "code",
      "execution_count": null,
      "metadata": {
        "id": "oppwLSurmvxf",
        "colab": {
          "base_uri": "https://localhost:8080/"
        },
        "outputId": "abd6c46c-75fc-44ec-9f86-81e06221052e"
      },
      "outputs": [
        {
          "output_type": "execute_result",
          "data": {
            "text/plain": [
              "array([[1.36479376e-01, 9.01146239e-02, 1.25286679e-01, 1.31971874e-01,\n",
              "        1.08130947e-01, 1.07735329e-01, 6.65708426e-02, 3.16560368e-02,\n",
              "        5.64447475e-03, 1.97079162e-02],\n",
              "       [8.57613294e-01, 5.66265041e-01, 7.87280280e-01, 8.29288913e-01,\n",
              "        6.79476562e-01, 6.76990568e-01, 4.18319905e-01, 1.98921176e-01,\n",
              "        3.54689238e-02, 1.23841209e-01],\n",
              "       [3.88620785e-01, 2.56598593e-01, 3.56749928e-01, 3.75785813e-01,\n",
              "        3.07899513e-01, 3.06773003e-01, 1.89558407e-01, 9.01395817e-02,\n",
              "        1.60724666e-02, 5.61176795e-02],\n",
              "       [5.80100321e-01, 3.83028732e-01, 5.32526194e-01, 5.60941357e-01,\n",
              "        4.59606416e-01, 4.57924858e-01, 2.82956798e-01, 1.34552763e-01,\n",
              "        2.39916221e-02, 8.37677374e-02],\n",
              "       [9.15193662e-03, 6.04284216e-03, 8.40138473e-03, 8.84967576e-03,\n",
              "        7.25096787e-03, 7.22443882e-03, 4.46406007e-03, 2.12276793e-03,\n",
              "        3.78503161e-04, 1.32155939e-03],\n",
              "       [2.10248289e-01, 1.38822773e-01, 1.93005791e-01, 2.03304422e-01,\n",
              "        1.66577157e-01, 1.65967703e-01, 1.02553266e-01, 4.87665445e-02,\n",
              "        8.69538822e-03, 3.03603064e-02],\n",
              "       [9.47532388e-01, 6.25636835e-01, 8.69825094e-01, 9.16238251e-01,\n",
              "        7.50718365e-01, 7.47971718e-01, 4.62179938e-01, 2.19777676e-01,\n",
              "        3.91877718e-02, 1.36825720e-01],\n",
              "       [3.66463322e-01, 2.41968460e-01, 3.36409602e-01, 3.54360144e-01,\n",
              "        2.90344425e-01, 2.89282144e-01, 1.78750613e-01, 8.50002158e-02,\n",
              "        1.51560846e-02, 5.29180941e-02],\n",
              "       [2.53676272e-01, 1.67497409e-01, 2.32872238e-01, 2.45298110e-01,\n",
              "        2.00984619e-01, 2.00249279e-01, 1.23736228e-01, 5.88395525e-02,\n",
              "        1.04914702e-02, 3.66314008e-02],\n",
              "       [3.46914554e-02, 2.29060797e-02, 3.18464032e-02, 3.35457013e-02,\n",
              "        2.74856174e-02, 2.73850560e-02, 1.69215268e-02, 8.04659297e-03,\n",
              "        1.43475923e-03, 5.00952098e-03]])"
            ]
          },
          "metadata": {},
          "execution_count": 94
        }
      ],
      "source": [
        "A = np.random.uniform(0,1,10)\n",
        "B = np.random.uniform(0,1,10)\n",
        "\n",
        "np.einsum('i->', A)       \n",
        "np.einsum('i,i->i', A, B) \n",
        "np.einsum('i,i', A, B)    \n",
        "np.einsum('i,j->ij', A, B)"
      ]
    },
    {
      "cell_type": "markdown",
      "metadata": {
        "id": "LiDOmvIsmvxf"
      },
      "source": [
        "#### 98. Considering a path described by two vectors (X,Y), how to sample it using equidistant samples (★★★)? \n",
        "(**hint**: np.cumsum, np.interp)"
      ]
    },
    {
      "cell_type": "code",
      "execution_count": null,
      "metadata": {
        "collapsed": true,
        "id": "IiahBbknmvxf"
      },
      "outputs": [],
      "source": [
        "phi = np.arange(0, 10*np.pi, 0.1)\n",
        "a = 1\n",
        "x = a*phi*np.cos(phi)\n",
        "y = a*phi*np.sin(phi)\n",
        "\n",
        "dr = (np.diff(x)**2 + np.diff(y)**2)**.5\n",
        "r = np.zeros_like(x)\n",
        "r[1:] = np.cumsum(dr)                \n",
        "r_int = np.linspace(0, r.max(), 200) \n",
        "x_int = np.interp(r_int, r, x)       \n",
        "y_int = np.interp(r_int, r, y)"
      ]
    },
    {
      "cell_type": "markdown",
      "metadata": {
        "id": "-EStoZDtmvxg"
      },
      "source": [
        "#### 99. Given an integer n and a 2D array X, select from X the rows which can be interpreted as draws from a multinomial distribution with n degrees, i.e., the rows which only contain integers and which sum to n. (★★★) \n",
        "(**hint**: np.logical\\_and.reduce, np.mod)"
      ]
    },
    {
      "cell_type": "code",
      "execution_count": null,
      "metadata": {
        "id": "1xLxs0Otmvxg",
        "colab": {
          "base_uri": "https://localhost:8080/"
        },
        "outputId": "65d521e5-67fe-4d32-884a-077ba5a2433b"
      },
      "outputs": [
        {
          "output_type": "stream",
          "name": "stdout",
          "text": [
            "[[2. 0. 1. 1.]]\n"
          ]
        }
      ],
      "source": [
        "D = np.asarray([[1.0, 0.0, 3.0, 8.0],\n",
        "                [2.0, 0.0, 1.0, 1.0],\n",
        "                [1.5, 2.5, 1.0, 0.0]])\n",
        "n = 4\n",
        "O = np.logical_and.reduce(np.mod(D, 1) == 0, axis=-1)\n",
        "O &= (D.sum(axis=-1) == n)\n",
        "print(D[O])"
      ]
    },
    {
      "cell_type": "markdown",
      "metadata": {
        "id": "joQPeeuRmvxg"
      },
      "source": [
        "#### 100. Compute bootstrapped 95% confidence intervals for the mean of a 1D array X (i.e., resample the elements of an array with replacement N times, compute the mean of each sample, and then compute percentiles over the means). (★★★) \n",
        "(**hint**: np.percentile)"
      ]
    },
    {
      "cell_type": "code",
      "execution_count": null,
      "metadata": {
        "id": "N1BifMh2mvxg",
        "colab": {
          "base_uri": "https://localhost:8080/"
        },
        "outputId": "9fc4da90-4d83-465c-89a4-7140707ee08e"
      },
      "outputs": [
        {
          "output_type": "stream",
          "name": "stdout",
          "text": [
            "[-0.00464414  0.41519402]\n"
          ]
        }
      ],
      "source": [
        "x = np.random.randn(100) # random 1D array\n",
        "r = 1000 # number of bootstrap samples\n",
        "idx = np.random.randint(0, x.size, (r, x.size))\n",
        "means = x[idx].mean(axis=1)\n",
        "confint = np.percentile(means, [2.5, 97.5])\n",
        "print(confint)"
      ]
    }
  ],
  "metadata": {
    "kernelspec": {
      "display_name": "Python 3",
      "language": "python",
      "name": "python3"
    },
    "language_info": {
      "codemirror_mode": {
        "name": "ipython",
        "version": 3
      },
      "file_extension": ".py",
      "mimetype": "text/x-python",
      "name": "python",
      "nbconvert_exporter": "python",
      "pygments_lexer": "ipython3",
      "version": "3.8.3"
    },
    "colab": {
      "name": "_Numpy_tasks.ipynb",
      "provenance": [],
      "collapsed_sections": [
        "4x5nvGZumvxS",
        "LSCNg9aqmvxS",
        "hD42Jm_lmvxT",
        "sretUmUKmvxU",
        "EXZ6NzRcmvxV",
        "Uf8fmFP6mvxW",
        "tAO_20lSmvxX",
        "Aj_KyYSSmvxY",
        "UpicU8Irmvxb",
        "R8uqBtO_mvxe",
        "3Ld5-ojlmvxe",
        "NSobTrY8mvxe",
        "6J8tdzv4mvxf",
        "LiDOmvIsmvxf"
      ],
      "include_colab_link": true
    }
  },
  "nbformat": 4,
  "nbformat_minor": 0
}